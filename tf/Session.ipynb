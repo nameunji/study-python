{
 "cells": [
  {
   "cell_type": "code",
   "execution_count": 5,
   "id": "90742e6e",
   "metadata": {
    "ExecuteTime": {
     "end_time": "2021-05-25T05:25:32.182338Z",
     "start_time": "2021-05-25T05:25:32.170924Z"
    }
   },
   "outputs": [
    {
     "data": {
      "text/plain": [
       "'2.5.0'"
      ]
     },
     "execution_count": 5,
     "metadata": {},
     "output_type": "execute_result"
    }
   ],
   "source": [
    "import tensorflow as tf\n",
    "tf.__version__"
   ]
  },
  {
   "cell_type": "markdown",
   "id": "9f6260cc",
   "metadata": {},
   "source": [
    "# Session"
   ]
  },
  {
   "cell_type": "code",
   "execution_count": 3,
   "id": "fb2864a8",
   "metadata": {
    "ExecuteTime": {
     "end_time": "2021-05-25T05:23:53.890888Z",
     "start_time": "2021-05-25T05:23:53.870786Z"
    }
   },
   "outputs": [
    {
     "name": "stdout",
     "output_type": "stream",
     "text": [
      "tf.Tensor(22.5, shape=(), dtype=float32)\n"
     ]
    }
   ],
   "source": [
    "a = tf.constant(17.5)\n",
    "b = tf.constant(5.0)\n",
    "c = tf.add(a, b)\n",
    "print(c)"
   ]
  },
  {
   "cell_type": "code",
   "execution_count": 4,
   "id": "f3b7e503",
   "metadata": {
    "ExecuteTime": {
     "end_time": "2021-05-25T05:24:42.674483Z",
     "start_time": "2021-05-25T05:24:42.376330Z"
    }
   },
   "outputs": [
    {
     "ename": "AttributeError",
     "evalue": "module 'tensorflow' has no attribute 'Session'",
     "output_type": "error",
     "traceback": [
      "\u001b[0;31m---------------------------------------------------------------------------\u001b[0m",
      "\u001b[0;31mAttributeError\u001b[0m                            Traceback (most recent call last)",
      "\u001b[0;32m<ipython-input-4-a22fc5b8549f>\u001b[0m in \u001b[0;36m<module>\u001b[0;34m\u001b[0m\n\u001b[1;32m      2\u001b[0m \u001b[0mb\u001b[0m \u001b[0;34m=\u001b[0m \u001b[0mtf\u001b[0m\u001b[0;34m.\u001b[0m\u001b[0mconstant\u001b[0m\u001b[0;34m(\u001b[0m\u001b[0;36m5.0\u001b[0m\u001b[0;34m)\u001b[0m\u001b[0;34m\u001b[0m\u001b[0;34m\u001b[0m\u001b[0m\n\u001b[1;32m      3\u001b[0m \u001b[0mc\u001b[0m \u001b[0;34m=\u001b[0m \u001b[0mtf\u001b[0m\u001b[0;34m.\u001b[0m\u001b[0madd\u001b[0m\u001b[0;34m(\u001b[0m\u001b[0ma\u001b[0m\u001b[0;34m,\u001b[0m \u001b[0mb\u001b[0m\u001b[0;34m)\u001b[0m\u001b[0;34m\u001b[0m\u001b[0;34m\u001b[0m\u001b[0m\n\u001b[0;32m----> 4\u001b[0;31m \u001b[0msess\u001b[0m \u001b[0;34m=\u001b[0m \u001b[0mtf\u001b[0m\u001b[0;34m.\u001b[0m\u001b[0mSession\u001b[0m\u001b[0;34m(\u001b[0m\u001b[0;34m)\u001b[0m\u001b[0;34m\u001b[0m\u001b[0;34m\u001b[0m\u001b[0m\n\u001b[0m\u001b[1;32m      5\u001b[0m \u001b[0msess\u001b[0m\u001b[0;34m.\u001b[0m\u001b[0mrun\u001b[0m\u001b[0;34m(\u001b[0m\u001b[0mc\u001b[0m\u001b[0;34m)\u001b[0m\u001b[0;34m\u001b[0m\u001b[0;34m\u001b[0m\u001b[0m\n",
      "\u001b[0;31mAttributeError\u001b[0m: module 'tensorflow' has no attribute 'Session'"
     ]
    }
   ],
   "source": [
    "a = tf.constant(17.5)\n",
    "b = tf.constant(5.0)\n",
    "c = tf.add(a, b)\n",
    "sess = tf.Session()\n",
    "sess.run(c)"
   ]
  },
  {
   "cell_type": "markdown",
   "id": "0d487f3c",
   "metadata": {},
   "source": [
    "위와 같이 에러가 나는 이유는 텐서플로우 2.0.0이상의 버전에서는 Session을 정의하고 run하는 과정이 생략되기 때문이다."
   ]
  },
  {
   "cell_type": "markdown",
   "id": "465baf99",
   "metadata": {},
   "source": [
    "<br><br><br>\n",
    "\n",
    "![](https://mblogthumb-phinf.pstatic.net/MjAxODA1MTdfMTYw/MDAxNTI2NTU3MzQ4Mzgx.HOsboWcj8Y7bwL4BmzV1J_c78m0B92yxqa2_bwfKlyMg.eN2Lp4ghu0qCykcv8R6NbTl7x-bNRM6NX_IbfkXFE50g.PNG.ndb796/image.png?type=w800)\n",
    "원래는 tf.constant(), tf.add()등의 명령어는 위 그림과 같이 그래프를 정의한 것 뿐이지 실제로 연산을 수행한 것은 아니다. 연산을 수행하기 위해서는 a, b에 데이터를 넣어서 흐름이 이루어지도록 만들어야 한다. 이러한 동작을 바로 세션(session)이 수행한다.\n",
    "즉, 세션은 **실제로 값을 대입한 그래프가 동작하도록 하는 역할**을 수행하는 것이다."
   ]
  },
  {
   "cell_type": "markdown",
   "id": "c62dd2f1",
   "metadata": {
    "ExecuteTime": {
     "end_time": "2021-05-25T05:39:44.240308Z",
     "start_time": "2021-05-25T05:39:44.236540Z"
    }
   },
   "source": [
    "<br><br><br>"
   ]
  },
  {
   "cell_type": "markdown",
   "id": "2c4b29fc",
   "metadata": {
    "ExecuteTime": {
     "end_time": "2021-05-25T05:39:58.579116Z",
     "start_time": "2021-05-25T05:39:58.576849Z"
    }
   },
   "source": [
    "# InteractiveSession"
   ]
  },
  {
   "cell_type": "markdown",
   "id": "8456c627",
   "metadata": {},
   "source": [
    "- 자동으로 default session을 지정해줌"
   ]
  },
  {
   "cell_type": "code",
   "execution_count": null,
   "id": "25ed7189",
   "metadata": {},
   "outputs": [],
   "source": []
  }
 ],
 "metadata": {
  "kernelspec": {
   "display_name": "Python 3",
   "language": "python",
   "name": "python3"
  },
  "language_info": {
   "codemirror_mode": {
    "name": "ipython",
    "version": 3
   },
   "file_extension": ".py",
   "mimetype": "text/x-python",
   "name": "python",
   "nbconvert_exporter": "python",
   "pygments_lexer": "ipython3",
   "version": "3.7.10"
  },
  "toc": {
   "base_numbering": 1,
   "nav_menu": {},
   "number_sections": false,
   "sideBar": true,
   "skip_h1_title": false,
   "title_cell": "Table of Contents",
   "title_sidebar": "Contents",
   "toc_cell": false,
   "toc_position": {
    "height": "calc(100% - 180px)",
    "left": "10px",
    "top": "150px",
    "width": "165px"
   },
   "toc_section_display": true,
   "toc_window_display": false
  }
 },
 "nbformat": 4,
 "nbformat_minor": 5
}
