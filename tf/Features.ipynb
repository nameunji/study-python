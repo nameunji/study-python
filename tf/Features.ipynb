{
 "cells": [
  {
   "cell_type": "markdown",
   "id": "908a1199",
   "metadata": {},
   "source": [
    "# tf.train.Feature"
   ]
  },
  {
   "cell_type": "markdown",
   "id": "4b8a4063",
   "metadata": {},
   "source": [
    "[tensorflow 공식문서 - tf.train.Features](https://www.tensorflow.org/api_docs/python/tf/train/Features)"
   ]
  },
  {
   "cell_type": "code",
   "execution_count": 7,
   "id": "2a1f1592",
   "metadata": {
    "ExecuteTime": {
     "end_time": "2021-05-25T06:11:16.964237Z",
     "start_time": "2021-05-25T06:11:16.961811Z"
    }
   },
   "outputs": [],
   "source": [
    "import tensorflow as tf\n",
    "import numpy as np"
   ]
  },
  {
   "cell_type": "markdown",
   "id": "b1c76bbb",
   "metadata": {},
   "source": [
    "아래 함수는 입력값으로 `스칼라`를 사용하고, 세가지 list 타입 중 하나의 `tf.train.Feature`를 반환한다."
   ]
  },
  {
   "cell_type": "code",
   "execution_count": 2,
   "id": "e4a50347",
   "metadata": {
    "ExecuteTime": {
     "end_time": "2021-05-25T06:08:27.011426Z",
     "start_time": "2021-05-25T06:08:27.005142Z"
    }
   },
   "outputs": [],
   "source": [
    "# 다음 함수들을 사용하여 값을 tf.Example과 호환되는 형식으로 변환할 수 있다\n",
    "def _bytes_feature(value):\n",
    "    #string/byte를 byte_list로 반환\n",
    "    if isinstance(value, type(tf.constant(0))):\n",
    "        value = value.numpy() # ByteList는 EagerTensor의 문자열을 언팩(unpack)하지 않는다.\n",
    "    return tf.train.Feature(bytes_list=tf.train.BytesList(value=[value]))\n",
    "\n",
    "def _float_feature(value):\n",
    "    # float / double을 float_list로 반환\n",
    "    return tf.train.Feature(float_list=tf.train.FloatList(value=[value]))\n",
    "\n",
    "def _int64_feature(value):\n",
    "    # bool / enum / int / unit을 int64_list로 반환\n",
    "    return tf.train.Feature(int64_list=tf.train.Int64List(value=[value]))"
   ]
  },
  {
   "cell_type": "code",
   "execution_count": 3,
   "id": "2d01feb2",
   "metadata": {
    "ExecuteTime": {
     "end_time": "2021-05-25T06:10:19.311737Z",
     "start_time": "2021-05-25T06:10:19.305035Z"
    }
   },
   "outputs": [
    {
     "name": "stdout",
     "output_type": "stream",
     "text": [
      "bytes_list {\n",
      "  value: \"test\"\n",
      "}\n",
      "\n"
     ]
    }
   ],
   "source": [
    "# ex\n",
    "print(_bytes_feature(b'test'))"
   ]
  },
  {
   "cell_type": "code",
   "execution_count": 5,
   "id": "e6d1803d",
   "metadata": {
    "ExecuteTime": {
     "end_time": "2021-05-25T06:10:44.260309Z",
     "start_time": "2021-05-25T06:10:44.257422Z"
    }
   },
   "outputs": [
    {
     "name": "stdout",
     "output_type": "stream",
     "text": [
      "bytes_list {\n",
      "  value: \"test\"\n",
      "}\n",
      "\n"
     ]
    }
   ],
   "source": [
    "print(_bytes_feature(u'test'.encode('utf-8')))"
   ]
  },
  {
   "cell_type": "code",
   "execution_count": 9,
   "id": "45594ab7",
   "metadata": {
    "ExecuteTime": {
     "end_time": "2021-05-25T06:11:28.456392Z",
     "start_time": "2021-05-25T06:11:28.452666Z"
    }
   },
   "outputs": [
    {
     "name": "stdout",
     "output_type": "stream",
     "text": [
      "float_list {\n",
      "  value: 2.7182817459106445\n",
      "}\n",
      "\n"
     ]
    }
   ],
   "source": [
    "print(_float_feature(np.exp(1)))"
   ]
  },
  {
   "cell_type": "code",
   "execution_count": 10,
   "id": "9cbfd477",
   "metadata": {
    "ExecuteTime": {
     "end_time": "2021-05-25T06:11:47.915851Z",
     "start_time": "2021-05-25T06:11:47.913057Z"
    }
   },
   "outputs": [
    {
     "name": "stdout",
     "output_type": "stream",
     "text": [
      "int64_list {\n",
      "  value: 1\n",
      "}\n",
      "\n"
     ]
    }
   ],
   "source": [
    "print(_int64_feature(True))"
   ]
  },
  {
   "cell_type": "code",
   "execution_count": 11,
   "id": "7d341e8f",
   "metadata": {
    "ExecuteTime": {
     "end_time": "2021-05-25T06:11:58.533017Z",
     "start_time": "2021-05-25T06:11:58.529408Z"
    }
   },
   "outputs": [
    {
     "name": "stdout",
     "output_type": "stream",
     "text": [
      "int64_list {\n",
      "  value: 1\n",
      "}\n",
      "\n"
     ]
    }
   ],
   "source": [
    "print(_int64_feature(1))"
   ]
  },
  {
   "cell_type": "code",
   "execution_count": 12,
   "id": "3065223c",
   "metadata": {
    "ExecuteTime": {
     "end_time": "2021-05-25T06:12:04.613123Z",
     "start_time": "2021-05-25T06:12:04.596625Z"
    }
   },
   "outputs": [
    {
     "ename": "TypeError",
     "evalue": "1.0 has type float, but expected one of: int, long",
     "output_type": "error",
     "traceback": [
      "\u001b[0;31m---------------------------------------------------------------------------\u001b[0m",
      "\u001b[0;31mTypeError\u001b[0m                                 Traceback (most recent call last)",
      "\u001b[0;32m<ipython-input-12-9c2835161e80>\u001b[0m in \u001b[0;36m<module>\u001b[0;34m\u001b[0m\n\u001b[0;32m----> 1\u001b[0;31m \u001b[0mprint\u001b[0m\u001b[0;34m(\u001b[0m\u001b[0m_int64_feature\u001b[0m\u001b[0;34m(\u001b[0m\u001b[0;36m1.0\u001b[0m\u001b[0;34m)\u001b[0m\u001b[0;34m)\u001b[0m\u001b[0;34m\u001b[0m\u001b[0;34m\u001b[0m\u001b[0m\n\u001b[0m",
      "\u001b[0;32m<ipython-input-2-6b77ebbafd8d>\u001b[0m in \u001b[0;36m_int64_feature\u001b[0;34m(value)\u001b[0m\n\u001b[1;32m     12\u001b[0m \u001b[0;32mdef\u001b[0m \u001b[0m_int64_feature\u001b[0m\u001b[0;34m(\u001b[0m\u001b[0mvalue\u001b[0m\u001b[0;34m)\u001b[0m\u001b[0;34m:\u001b[0m\u001b[0;34m\u001b[0m\u001b[0;34m\u001b[0m\u001b[0m\n\u001b[1;32m     13\u001b[0m     \u001b[0;31m# bool / enum / int / unit을 int64_list로 반환\u001b[0m\u001b[0;34m\u001b[0m\u001b[0;34m\u001b[0m\u001b[0;34m\u001b[0m\u001b[0m\n\u001b[0;32m---> 14\u001b[0;31m     \u001b[0;32mreturn\u001b[0m \u001b[0mtf\u001b[0m\u001b[0;34m.\u001b[0m\u001b[0mtrain\u001b[0m\u001b[0;34m.\u001b[0m\u001b[0mFeature\u001b[0m\u001b[0;34m(\u001b[0m\u001b[0mint64_list\u001b[0m\u001b[0;34m=\u001b[0m\u001b[0mtf\u001b[0m\u001b[0;34m.\u001b[0m\u001b[0mtrain\u001b[0m\u001b[0;34m.\u001b[0m\u001b[0mInt64List\u001b[0m\u001b[0;34m(\u001b[0m\u001b[0mvalue\u001b[0m\u001b[0;34m=\u001b[0m\u001b[0;34m[\u001b[0m\u001b[0mvalue\u001b[0m\u001b[0;34m]\u001b[0m\u001b[0;34m)\u001b[0m\u001b[0;34m)\u001b[0m\u001b[0;34m\u001b[0m\u001b[0;34m\u001b[0m\u001b[0m\n\u001b[0m",
      "\u001b[0;31mTypeError\u001b[0m: 1.0 has type float, but expected one of: int, long"
     ]
    }
   ],
   "source": [
    "print(_int64_feature(1.0))"
   ]
  },
  {
   "cell_type": "markdown",
   "id": "e4e61ec3",
   "metadata": {},
   "source": [
    "함수에 대한 입력 유형이 위에서 언급한 강제성 유형과 일치하지 않은 경우 위와 같이 에러가 발생한다. 위 예시에서 1.0은 float이기 때문에 에러가 발생했다. 1.0은 `_float_feature()`를 사용해야 한다."
   ]
  },
  {
   "cell_type": "markdown",
   "id": "62c59845",
   "metadata": {},
   "source": [
    "<br><br><br>"
   ]
  },
  {
   "cell_type": "markdown",
   "id": "0f1e7121",
   "metadata": {},
   "source": [
    "## SerializeToString\n",
    "모든 프로토(proto) 메시지는 .SerializeToString 메소드를 사용하여 이진 문자열로 직렬화(serialize)할 수 있다."
   ]
  },
  {
   "cell_type": "code",
   "execution_count": 13,
   "id": "0e1bfd1f",
   "metadata": {
    "ExecuteTime": {
     "end_time": "2021-05-25T06:14:04.419016Z",
     "start_time": "2021-05-25T06:14:04.414806Z"
    }
   },
   "outputs": [
    {
     "data": {
      "text/plain": [
       "float_list {\n",
       "  value: 2.7182817459106445\n",
       "}"
      ]
     },
     "execution_count": 13,
     "metadata": {},
     "output_type": "execute_result"
    }
   ],
   "source": [
    "feature = _float_feature(np.exp(1))\n",
    "feature"
   ]
  },
  {
   "cell_type": "code",
   "execution_count": 14,
   "id": "b4f35773",
   "metadata": {
    "ExecuteTime": {
     "end_time": "2021-05-25T06:14:14.588258Z",
     "start_time": "2021-05-25T06:14:14.584113Z"
    }
   },
   "outputs": [
    {
     "data": {
      "text/plain": [
       "b'\\x12\\x06\\n\\x04T\\xf8-@'"
      ]
     },
     "execution_count": 14,
     "metadata": {},
     "output_type": "execute_result"
    }
   ],
   "source": [
    "feature.SerializeToString()"
   ]
  },
  {
   "cell_type": "markdown",
   "id": "ef8c7c8b",
   "metadata": {},
   "source": [
    "<br><br><br><br>"
   ]
  },
  {
   "cell_type": "markdown",
   "id": "e1b14a42",
   "metadata": {},
   "source": [
    "[참고 blog - [튜토리얼8] TFRecord와 tf.Example](https://limjun92.github.io/assets/TensorFlow%202.0%ED%8A%9C%ED%86%A0%EB%A6%AC%EC%96%BC/3.%20%EB%8D%B0%EC%9D%B4%ED%84%B0%20%EB%A1%9C%EB%93%9C%20%EB%B0%8F%20%EC%82%AC%EC%A0%84%20%EC%B2%98%EB%A6%AC/%5B%ED%8A%9C%ED%86%A0%EB%A6%AC%EC%96%BC8%5D%20TFRecord%EC%99%80%20tf.Example/)"
   ]
  }
 ],
 "metadata": {
  "kernelspec": {
   "display_name": "Python 3",
   "language": "python",
   "name": "python3"
  },
  "language_info": {
   "codemirror_mode": {
    "name": "ipython",
    "version": 3
   },
   "file_extension": ".py",
   "mimetype": "text/x-python",
   "name": "python",
   "nbconvert_exporter": "python",
   "pygments_lexer": "ipython3",
   "version": "3.7.10"
  },
  "toc": {
   "base_numbering": 1,
   "nav_menu": {},
   "number_sections": false,
   "sideBar": true,
   "skip_h1_title": false,
   "title_cell": "Table of Contents",
   "title_sidebar": "Contents",
   "toc_cell": false,
   "toc_position": {},
   "toc_section_display": true,
   "toc_window_display": false
  }
 },
 "nbformat": 4,
 "nbformat_minor": 5
}
