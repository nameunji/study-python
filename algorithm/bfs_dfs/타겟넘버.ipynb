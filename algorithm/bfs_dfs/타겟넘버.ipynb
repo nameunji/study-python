{
 "cells": [
  {
   "cell_type": "markdown",
   "id": "46c939b7",
   "metadata": {},
   "source": [
    "# \\[programmers\\] 타겟넘버\n",
    "- 문제링크 : https://programmers.co.kr/learn/courses/30/lessons/43165\n",
    "\n",
    "- 문제 설명  \n",
    "n개의 음이 아닌 정수들이 있습니다. 이 정수들을 순서를 바꾸지 않고 적절히 더하거나 빼서 타겟 넘버를 만들려고 합니다. 예를 들어 [1, 1, 1, 1, 1]로 숫자 3을 만들려면 다음 다섯 방법을 쓸 수 있습니다.  \n",
    "\n",
    "```py\n",
    "-1+1+1+1+1 = 3\n",
    "+1-1+1+1+1 = 3\n",
    "+1+1-1+1+1 = 3\n",
    "+1+1+1-1+1 = 3\n",
    "+1+1+1+1-1 = 3\n",
    "```\n",
    "사용할 수 있는 숫자가 담긴 배열 numbers, 타겟 넘버 target이 매개변수로 주어질 때 숫자를 적절히 더하고 빼서 타겟 넘버를 만드는 방법의 수를 return 하도록 solution 함수를 작성해주세요.\n",
    "\n",
    "- 제한사항  \n",
    "주어지는 숫자의 개수는 2개 이상 20개 이하입니다.  \n",
    "각 숫자는 1 이상 50 이하인 자연수입니다.  \n",
    "타겟 넘버는 1 이상 1000 이하인 자연수입니다.  \n"
   ]
  },
  {
   "cell_type": "markdown",
   "id": "fed79d00",
   "metadata": {},
   "source": [
    "## 풀이 1 - bfs"
   ]
  },
  {
   "cell_type": "code",
   "execution_count": 2,
   "id": "7d26d953",
   "metadata": {
    "ExecuteTime": {
     "end_time": "2022-01-28T09:56:16.245724Z",
     "start_time": "2022-01-28T09:56:16.242661Z"
    }
   },
   "outputs": [],
   "source": [
    "def solution(numbers, target):\n",
    "    queue = [0]\n",
    "    for n in numbers:\n",
    "        tmp = []\n",
    "        for parents in queue:\n",
    "            tmp.append(parents + n)\n",
    "            tmp.append(parents - n)\n",
    "            queue = tmp\n",
    "    \n",
    "    return queue.count(target)"
   ]
  },
  {
   "cell_type": "code",
   "execution_count": 5,
   "id": "3b59db45",
   "metadata": {
    "ExecuteTime": {
     "end_time": "2022-01-28T09:57:40.309171Z",
     "start_time": "2022-01-28T09:57:40.306216Z"
    }
   },
   "outputs": [
    {
     "name": "stdout",
     "output_type": "stream",
     "text": [
      "5\n",
      "2\n"
     ]
    }
   ],
   "source": [
    "print(solution([1, 1, 1, 1, 1], 3))\n",
    "print(solution([4, 1, 2, 1], 4))"
   ]
  },
  {
   "cell_type": "markdown",
   "id": "0fae56f9",
   "metadata": {},
   "source": [
    "## 다른 사람 풀이 1 - dfs "
   ]
  },
  {
   "cell_type": "code",
   "execution_count": 28,
   "id": "20de4722",
   "metadata": {
    "ExecuteTime": {
     "end_time": "2022-01-28T14:04:39.879776Z",
     "start_time": "2022-01-28T14:04:39.876146Z"
    }
   },
   "outputs": [],
   "source": [
    "def dfs(idx, numbers, target, value):\n",
    "    global answer  # 전역변수 사용\n",
    "\n",
    "    length = len(numbers)\n",
    "    \n",
    "    # 전부 다 계산했을 때 target과 같은 경우, 정답\n",
    "    if(idx == length and target == value):\n",
    "        answer += 1\n",
    "        return\n",
    "    \n",
    "    # 전부 다 계산했을 때 target 과 다른 경우,\n",
    "    if(idx == length):\n",
    "        return \n",
    "\n",
    "    # 현재 값을 더하거나 빼서 value 로 설정, 다음 index 계산을 위해 dfs 반복\n",
    "    dfs(idx+1, numbers, target, value+numbers[idx])\n",
    "    dfs(idx+1, numbers, target, value-numbers[idx])\n",
    "\n",
    "\n",
    "def solution(numbers, target):\n",
    "    global answer\n",
    "    dfs(0, numbers, target, 0)\n",
    "    return answer"
   ]
  },
  {
   "cell_type": "code",
   "execution_count": 32,
   "id": "9b28a496",
   "metadata": {
    "ExecuteTime": {
     "end_time": "2022-01-28T14:04:55.800741Z",
     "start_time": "2022-01-28T14:04:55.798093Z"
    }
   },
   "outputs": [
    {
     "name": "stdout",
     "output_type": "stream",
     "text": [
      "5\n"
     ]
    }
   ],
   "source": [
    "answer = 0\n",
    "print(solution([1, 1, 1, 1, 1], 3))"
   ]
  },
  {
   "cell_type": "code",
   "execution_count": 33,
   "id": "e7d99654",
   "metadata": {
    "ExecuteTime": {
     "end_time": "2022-01-28T14:04:57.015839Z",
     "start_time": "2022-01-28T14:04:57.012763Z"
    }
   },
   "outputs": [
    {
     "name": "stdout",
     "output_type": "stream",
     "text": [
      "2\n"
     ]
    }
   ],
   "source": [
    "answer = 0\n",
    "print(solution([4, 1, 2, 1], 4))"
   ]
  },
  {
   "cell_type": "markdown",
   "id": "ef407d7a",
   "metadata": {},
   "source": [
    "## 다른 사람 풀이 2\n",
    "이건 진짜 신박하다 생각했는데, 이렇게 유사하게 푼 사람이 60명이 넘었다. 와우... 세상에는 똑똑한 사람이 너무나 많다.  \n",
    "재귀를 통하긴 했지만, target에 원소들을 더하거나 빼서 풀었다. 와우!"
   ]
  },
  {
   "cell_type": "code",
   "execution_count": 34,
   "id": "cab2840a",
   "metadata": {
    "ExecuteTime": {
     "end_time": "2022-01-28T14:06:43.415400Z",
     "start_time": "2022-01-28T14:06:43.412406Z"
    }
   },
   "outputs": [],
   "source": [
    "def solution(numbers, target):\n",
    "    if not numbers and target == 0 :\n",
    "        return 1\n",
    "    elif not numbers:\n",
    "        return 0\n",
    "    else:\n",
    "        return solution(numbers[1:], target-numbers[0]) + solution(numbers[1:], target+numbers[0])"
   ]
  },
  {
   "cell_type": "code",
   "execution_count": 35,
   "id": "8121139a",
   "metadata": {
    "ExecuteTime": {
     "end_time": "2022-01-28T14:06:53.669210Z",
     "start_time": "2022-01-28T14:06:53.666283Z"
    }
   },
   "outputs": [
    {
     "name": "stdout",
     "output_type": "stream",
     "text": [
      "5\n",
      "2\n"
     ]
    }
   ],
   "source": [
    "print(solution([1, 1, 1, 1, 1], 3))\n",
    "print(solution([4, 1, 2, 1], 4))"
   ]
  }
 ],
 "metadata": {
  "kernelspec": {
   "display_name": "study",
   "language": "python",
   "name": "study"
  },
  "language_info": {
   "codemirror_mode": {
    "name": "ipython",
    "version": 3
   },
   "file_extension": ".py",
   "mimetype": "text/x-python",
   "name": "python",
   "nbconvert_exporter": "python",
   "pygments_lexer": "ipython3",
   "version": "3.8.5"
  },
  "toc": {
   "base_numbering": 1,
   "nav_menu": {},
   "number_sections": false,
   "sideBar": true,
   "skip_h1_title": false,
   "title_cell": "Table of Contents",
   "title_sidebar": "Contents",
   "toc_cell": false,
   "toc_position": {},
   "toc_section_display": true,
   "toc_window_display": true
  }
 },
 "nbformat": 4,
 "nbformat_minor": 5
}
