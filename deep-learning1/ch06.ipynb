{
 "cells": [
  {
   "cell_type": "markdown",
   "id": "dedicated-dressing",
   "metadata": {
    "ExecuteTime": {
     "end_time": "2021-01-27T12:42:58.510750Z",
     "start_time": "2021-01-27T12:42:58.508698Z"
    },
    "heading_collapsed": true
   },
   "source": [
    "# 학습 관련 기술들"
   ]
  },
  {
   "cell_type": "markdown",
   "id": "accredited-welcome",
   "metadata": {
    "ExecuteTime": {
     "end_time": "2021-01-27T12:43:17.484763Z",
     "start_time": "2021-01-27T12:43:17.482214Z"
    },
    "heading_collapsed": true
   },
   "source": [
    "# 매개변수 갱신"
   ]
  },
  {
   "cell_type": "markdown",
   "id": "pregnant-sunday",
   "metadata": {
    "ExecuteTime": {
     "end_time": "2021-01-27T12:45:06.676864Z",
     "start_time": "2021-01-27T12:45:06.673318Z"
    },
    "hidden": true
   },
   "source": [
    "목적: 손실함수의 값을 가능한 낮추는 매개변수를 찾는 것"
   ]
  },
  {
   "cell_type": "markdown",
   "id": "labeled-symposium",
   "metadata": {
    "heading_collapsed": true,
    "hidden": true
   },
   "source": [
    "## SGD 확률적 경사 하강법"
   ]
  },
  {
   "cell_type": "markdown",
   "id": "communist-teacher",
   "metadata": {
    "hidden": true
   },
   "source": [
    "매개변수의 기울기(미분)를 이용하여 기울어진 방향으로 매개변수 값을 갱신하는 방법  \n",
    "![sgd](http://drive.google.com/uc?id=164TjO-x6nKOFkR75bxnVG3s2tuU2x3RH)\n",
    "\n",
    "### code\n",
    "```py\n",
    "# SGD 구현\n",
    "class SGD:\n",
    "    def __init__(self, lr=0.01):\n",
    "        self.lr = lr\n",
    "    \n",
    "    def update(self, params, grads):\n",
    "        for key in params.keys():\n",
    "            params[key] -= self.lr * grads[key]\n",
    "```\n",
    "```py\n",
    "# 신경망 매개변수 진행(전체 흐름만 보면 됨)\n",
    "network = TwoLayerNet(...)\n",
    "optimizer = SGD()\n",
    "\n",
    "for i in range(10000):\n",
    "    ...\n",
    "    x_batch, t_batch = get_mini_batch(...)  # 미니배치\n",
    "    grads = network.gradient(x_batch, t_batch)\n",
    "    params = network.params\n",
    "    optimizer.update(params, grads)\n",
    "    ...\n",
    "```\n",
    "\n",
    "> **optimizer**  \n",
    "최적화를 행하는 자, 매개변수를 갱신해주는 역할이다. 그래서 위 코드를 보면 매개변수params와 기울기grads를 넘겨주기만 한다.  \n",
    "  \n",
    "\n",
    "### SGD 단점  \n",
    "- 비등방성 함수(방향에 따라 성질(기울기)이 달라지는 함수)에서는 탐색 경로가 비효율적이다. 즉, SGD는 기울기가 가르키는 방향으로 무조건 이동하므로 지그재그형태가 발생해 시간에 비해 학습률의 성장이 낮아지는 단점이 있다.  \n",
    "> **등방성이란?**  \n",
    "모든 좌표에 대해서 기울기가 항상 중앙을 가르키고 있다. 즉, f함수는 \"기울기가 가르키는 지점\"이라는 성질에 대해서 등방성을 가지고 있다.\n",
    "![sgd2](http://drive.google.com/uc?id=12MSZ3nhQzfzvLBU5YEgVc8hfg63SbeY-)  \n",
    "> **비등방성이란?**  \n",
    "기울기가 가르키는 지점이 하나가 아니라 여러가지이고 일정하지 않다.\n",
    "![sgd2](http://drive.google.com/uc?id=1oEt0O57CyrrB_gOVpdn2MGQPesB8Rf9F)\n",
    "\n",
    "<br><br><br><br>"
   ]
  },
  {
   "cell_type": "markdown",
   "id": "amateur-scanning",
   "metadata": {
    "ExecuteTime": {
     "end_time": "2021-01-27T13:21:20.069357Z",
     "start_time": "2021-01-27T13:21:20.067624Z"
    },
    "heading_collapsed": true,
    "hidden": true
   },
   "source": [
    "## Momentum 모멘텀"
   ]
  },
  {
   "cell_type": "markdown",
   "id": "hollow-consensus",
   "metadata": {
    "hidden": true
   },
   "source": [
    "모멘텀은 운동량을 의미하며 Momentum Optimizer는 매개변수의 이동에 속도를 부여하는 것을 의미한다.  \n",
    "쉽게 말해서 구슬을 떨어트리면 급한 경사에서는 더 빨라지듯이 매개변수의 변화에도 속도를 부여하는 것이다.  \n",
    "  \n",
    "$v\\leftarrow \\alpha v-\\eta \\frac{\\partial L}{\\partial W}$ 　　$W\\leftarrow W+v$\n",
    "- W : 가중치매개변수\n",
    "- $\\frac{\\partial L}{\\partial W}$ : 손실함수의 기울기\n",
    "- $\\eta$ : 학습률\n",
    "- v : 속도\n",
    "- $\\alpha v$ : 물체가 아무런 힘을 받지 않을 때 서서히 하강시킴, 만약 매개변수가 0이 되어 아무런 힘을 받지 않는다면 서서히 속도를 감소시키기 위해서 사용되며 보통 0.9를 사용"
   ]
  },
  {
   "cell_type": "markdown",
   "id": "sunset-labor",
   "metadata": {
    "heading_collapsed": true,
    "hidden": true
   },
   "source": [
    "### code"
   ]
  },
  {
   "cell_type": "code",
   "execution_count": 9,
   "id": "formal-kinase",
   "metadata": {
    "ExecuteTime": {
     "end_time": "2021-01-27T13:32:24.953847Z",
     "start_time": "2021-01-27T13:32:24.949350Z"
    },
    "hidden": true
   },
   "outputs": [],
   "source": [
    "class Momentum:\n",
    "    def __init__(self, lr=0.01, momentum=0.9):\n",
    "        self.lr = lr\n",
    "        self.momentum = momentum\n",
    "        self.v = None  # 물체 속도 -> {}\n",
    "        \n",
    "    def update(self, params, grads):\n",
    "        if self.v is None:\n",
    "            self.v = {}\n",
    "            for key, val in params.items():\n",
    "                self.v[key] = np.zeros_like(val)\n",
    "            \n",
    "            for key in params.keys():\n",
    "                self.v[key] = self.momentum * self.v[key] - self.lr * grads[key]\n",
    "                params[key] += self.v[key]"
   ]
  },
  {
   "cell_type": "markdown",
   "id": "closed-premises",
   "metadata": {
    "heading_collapsed": true,
    "hidden": true
   },
   "source": [
    "### SGD vs Momentum"
   ]
  },
  {
   "cell_type": "markdown",
   "id": "small-wellington",
   "metadata": {
    "ExecuteTime": {
     "end_time": "2021-01-27T13:55:43.411262Z",
     "start_time": "2021-01-27T13:55:43.407115Z"
    },
    "hidden": true
   },
   "source": [
    "![sgd](http://drive.google.com/uc?id=18fG4T1XyQdTVVHvO9s8ZLamMu8YFk-V7)\n",
    "x축의 힘은 아주 작지만 항상 같은 방향을 가르키므로 양의 가속도로 작용하여 SGD에 비해서 지그재그의 비율이 줄어들었으나, y축은 힘은 크지만 위아래로 번갈아 상충하여 속도가 안정적이지 않다. 전체적으로 보면 SGD보다 x축방향으로 빠르게 다가가 지그재그 움직임지 줄어든 것을 볼 수 있다."
   ]
  },
  {
   "cell_type": "markdown",
   "id": "extreme-seeker",
   "metadata": {
    "heading_collapsed": true,
    "hidden": true
   },
   "source": [
    "### Momentum 장단점"
   ]
  },
  {
   "cell_type": "markdown",
   "id": "emerging-married",
   "metadata": {
    "ExecuteTime": {
     "end_time": "2021-01-27T14:00:20.317342Z",
     "start_time": "2021-01-27T14:00:20.314299Z"
    },
    "hidden": true
   },
   "source": [
    "- 장점\n",
    "  - 자주 이동하는 방향에 관성이 걸리게 되고, 진동을 하더라도 중앙으로 가는 방향에 힘을 얻기 때문에 SGD에 비해 상대적으로 빠르게 이동할 수 있다.\n",
    "  - SGD가 가지고 있는 또 다른 문제인 Local Minima를 해결할 수 있다.\n",
    "- 단점\n",
    "  -  W를 업데이트 할 때마다, 과거에 이동했던 양을 변수별로 저장해야하므로 변수에 대한 메모리가 2배로 소모된다.\n",
    "  \n",
    "<br><br><br><br>"
   ]
  },
  {
   "cell_type": "markdown",
   "id": "advance-specific",
   "metadata": {
    "heading_collapsed": true,
    "hidden": true
   },
   "source": [
    "## AdaGrad"
   ]
  },
  {
   "cell_type": "markdown",
   "id": "ordinary-papua",
   "metadata": {
    "hidden": true
   },
   "source": [
    "지금까지 많이 변화한 매개변수는 적게 변화하도록, 반대로 적게 변화한 매개변수는 많이 변화하도록 learning late의 값을 조절하는 개념  \n",
    "\n",
    "$h \\leftarrow h+\\frac{\\partial L}{\\partial W}\\odot \\frac{\\partial L}{\\partial W}$　　　$W\\leftarrow W-\\eta \\frac{1}{\\sqrt{h}} \\frac{\\partial L}{\\partial W}$  \n",
    "- h : 손실함수의 기울기를 제곱하여 계속 더해줌.\n",
    "- $\\odot$ : 행렬의 원소별 곱셈\n",
    "\n",
    "매개변수를 갱신할 때 $\\frac{1}{\\sqrt{h}}$을 곱해 학습률을 조정하는데, 많이 움직인(크게 갱신된) 원소는 학습률이 낮아진다. 즉 원소마다 다르게 적용된다.  \n",
    "   \n",
    "### code\n",
    "```py\n",
    "class AdaGrad:\n",
    "    def __init__(self, lr=0.01):\n",
    "        self.lr = lr\n",
    "        self.h = None\n",
    "        \n",
    "    def update(self, params, grads):\n",
    "        if self.h is None:\n",
    "            self.h = {}\n",
    "            for key, val in params.items():\n",
    "                self.h[key] = np.zeros_like(val)\n",
    "        \n",
    "        for key in params.keys():\n",
    "            self.h[key] += grads[key] * grads[key]\n",
    "            params[key] -= self.lr * grads[key] / (np.sqrt(self.h[key]) + 1e-7)\n",
    "```\n",
    "\n",
    "\n",
    "![adagrad](http://drive.google.com/uc?id=1V2FIeRLpWn8mXOTGhaHJh6DNuuzVFJDv)  \n",
    "y축 방향은 기울기가 커서 처음에는 크게 움직이지만, 그 큰 움직임에 비례해 갱신 정도도 큰 폭으로 작아지도록 조정된다. 그래서 y축 방향으로 갱신 강도가 빠르게 약해지고, 지그재그 움직임이 줄어든다.\n",
    "\n",
    "### 단점\n",
    "h의 값은 항상 양으로 커지기 때문에 매개변수가 매우 크게 이동하여 h의 값이 무한대로 커진다면 해당 매개변수의 학습이 정체될 수 있다.  \n",
    "\n",
    "<br><br><br><br>"
   ]
  },
  {
   "cell_type": "markdown",
   "id": "accessory-trial",
   "metadata": {
    "heading_collapsed": true,
    "hidden": true
   },
   "source": [
    "## Adam"
   ]
  },
  {
   "cell_type": "markdown",
   "id": "plain-affiliate",
   "metadata": {
    "hidden": true
   },
   "source": [
    "AdaGrad는 매개변수의 원소마다 적응적으로 갱신정도를 조정했고, 모멘텀은 속도를 가중치(관성)로 적용했다. Adam은 모멘텀과 AdaGrad를 융합한 기법이다. 이 방법은 매개변수의 공간을 효율적으로 탐색해주고, 하이퍼파라미터의 편향보정이 진행된다는 점도 특징이다.\n",
    "\n",
    "> 어떤 블로그를 보다보면 RMSProp + Momentum 방식을 섞은 것이라하기도 하고, AdaGrad + Momentum라고 하기도 한다. 크게 다른 말은 아니다. RMSProp이 AdaGrad를 개선해서 나온 것이기 때문이다.  \n",
    "\n",
    "\n",
    "![adagrad](http://drive.google.com/uc?id=1BOXkW5TzhePpwiwIcJ_8AhxZ3wcBHp5_)  "
   ]
  },
  {
   "cell_type": "markdown",
   "id": "related-hybrid",
   "metadata": {
    "heading_collapsed": true,
    "hidden": true
   },
   "source": [
    "## optimizer 참고"
   ]
  },
  {
   "cell_type": "markdown",
   "id": "occupational-jesus",
   "metadata": {
    "hidden": true
   },
   "source": [
    "https://nittaku.tistory.com/271\n",
    "![adagrad](http://drive.google.com/uc?id=10RhKZIFAOAv8aX621nxlndGFZ2iZiyIf)  "
   ]
  },
  {
   "cell_type": "markdown",
   "id": "according-australian",
   "metadata": {},
   "source": [
    "# 가중치의 초깃값"
   ]
  },
  {
   "cell_type": "markdown",
   "id": "incorrect-player",
   "metadata": {
    "heading_collapsed": true
   },
   "source": [
    "## 초깃값을 0으로 하면?"
   ]
  },
  {
   "cell_type": "markdown",
   "id": "conventional-twins",
   "metadata": {
    "hidden": true
   },
   "source": [
    "오버피팅을 억제해 범용 성능을 높이는 기술을 **가중치 감소(weight decay)**라고 한다. 가중치 값을 작게 하여 오버피팅이 일어나지 않게 하는 것이다.  \n",
    "그럼 애초에 가중치 초깃값을 0으로 설정해주면 어떨까?  \n",
    "\n",
    "정확히 말하면 가중치를 균일한 값으로 설정해서는 안된다.\n",
    "- Backpropagation에서 모든 가중치의 값이 똑같이 갱신됨 \n",
    "- 가중치들은 같은 초기값에서 시작하고 갱신을 거쳐도 여전히 같은 값을 유지\n",
    "- 가중치가 고르게 되는 상황을 피하려면 초기값을 무작위로 설정"
   ]
  },
  {
   "cell_type": "markdown",
   "id": "consecutive-advancement",
   "metadata": {
    "ExecuteTime": {
     "end_time": "2021-01-27T15:10:07.841154Z",
     "start_time": "2021-01-27T15:10:07.839059Z"
    },
    "heading_collapsed": true
   },
   "source": [
    "## 은닉층의 활성화 값 분포"
   ]
  },
  {
   "cell_type": "markdown",
   "id": "active-empire",
   "metadata": {
    "ExecuteTime": {
     "end_time": "2021-01-27T16:12:09.413624Z",
     "start_time": "2021-01-27T16:12:09.411825Z"
    },
    "hidden": true
   },
   "source": [
    "### 표준편차가 1"
   ]
  },
  {
   "cell_type": "code",
   "execution_count": 32,
   "id": "essential-reservation",
   "metadata": {
    "ExecuteTime": {
     "end_time": "2021-01-27T15:50:00.255924Z",
     "start_time": "2021-01-27T15:49:59.597466Z"
    },
    "hidden": true
   },
   "outputs": [
    {
     "data": {
      "image/png": "[encoded data removed]",
      "text/plain": [
       "<Figure size 432x288 with 5 Axes>"
      ]
     },
     "metadata": {
      "needs_background": "light"
     },
     "output_type": "display_data"
    }
   ],
   "source": [
    "import numpy as np\n",
    "import matplotlib.pyplot as plt\n",
    "\n",
    "def sigmoid(x):\n",
    "    return 1/(1+np.exp(-x))\n",
    "\n",
    "x = np.random.randn(1000, 100)  # 1000개의 데이터\n",
    "node_num = 100                  # 각 은닉층의 노드(뉴런)수\n",
    "hidden_layer_size = 5           # 은닉층이 5개\n",
    "activations = {}                # 이 곳에 활성화 결과(활성화값)를 저장\n",
    "\n",
    "for i in range(hidden_layer_size):\n",
    "    if i != 0:\n",
    "        x = activations[i-1]\n",
    "    \n",
    "    w = np.random.randn(node_num, node_num) * 1\n",
    "    a = np.dot(x, w)\n",
    "    z = sigmoid(a)\n",
    "    activations[i] = z\n",
    "    \n",
    "# 히스토그램 그리기\n",
    "for i, a in activations.items():\n",
    "    plt.subplot(1, len(activations), i+1)\n",
    "    plt.title(str(i+1) + \"-layer\")\n",
    "    plt.hist(a.flatten(), 30, range=(0,1))\n",
    "    plt.subplots_adjust(left=2, right=5)\n",
    "\n",
    "plt.show()"
   ]
  },
  {
   "cell_type": "markdown",
   "id": "tracked-vehicle",
   "metadata": {
    "hidden": true
   },
   "source": [
    "<br>\n",
    "\n",
    "활성화함수가 시그모이드 함수인 경우 각 층들의 활성화값들이 0과 1에 주로 분포되어 있는 것을 볼 수 있다.   \n",
    "이는 시그모이드 함수의 미분 값이 0에 가까워지도록 한다.  \n",
    "따라서 역전파의 기울기 값은 점점 작아지다가 사라지는 Gradient Vanishing(기울기 소실) 문제가 발생하며 층이 깊어질수록 기울기는 더 사라진다.\n",
    "\n",
    "<br>"
   ]
  },
  {
   "cell_type": "markdown",
   "id": "lightweight-chaos",
   "metadata": {
    "hidden": true
   },
   "source": [
    "### 표준편차가 0.01"
   ]
  },
  {
   "cell_type": "code",
   "execution_count": 33,
   "id": "known-bankruptcy",
   "metadata": {
    "ExecuteTime": {
     "end_time": "2021-01-27T15:58:35.859807Z",
     "start_time": "2021-01-27T15:58:35.284506Z"
    },
    "hidden": true,
    "scrolled": true
   },
   "outputs": [
    {
     "data": {
      "image/png": "[encoded data removed]",
      "text/plain": [
       "<Figure size 432x288 with 5 Axes>"
      ]
     },
     "metadata": {
      "needs_background": "light"
     },
     "output_type": "display_data"
    }
   ],
   "source": [
    "for i in range(hidden_layer_size):\n",
    "    if i != 0:\n",
    "        x = activations[i-1]\n",
    "    \n",
    "    w = np.random.randn(node_num, node_num) * 0.01  # 가중치의 표준편차 1 -> 0.01\n",
    "    a = np.dot(x, w)\n",
    "    z = sigmoid(a)\n",
    "    activations[i] = z\n",
    "    \n",
    "# 히스토그램 그리기\n",
    "for i, a in activations.items():\n",
    "    plt.subplot(1, len(activations), i+1)\n",
    "    plt.title(str(i+1) + \"-layer\")\n",
    "    plt.hist(a.flatten(), 30, range=(0,1))\n",
    "    plt.subplots_adjust(left=2, right=5)\n",
    "\n",
    "plt.show()"
   ]
  },
  {
   "cell_type": "markdown",
   "id": "cleared-battlefield",
   "metadata": {
    "hidden": true
   },
   "source": [
    "<br>\n",
    "\n",
    "기울기가 사라지는 문제는 발생하지 않았으나 0.5 주변으로 값이 여전히 치우쳐있기 때문에 뉴런을 다수 사용한 이점이 없다.  \n",
    "뉴런 100개가 똑같은 값을 출력한다면 100개가 다 필요한 이유가 없다.\n",
    "\n",
    "<br>"
   ]
  },
  {
   "cell_type": "markdown",
   "id": "committed-lodging",
   "metadata": {
    "ExecuteTime": {
     "end_time": "2021-01-27T16:12:49.382648Z",
     "start_time": "2021-01-27T16:12:49.380762Z"
    },
    "hidden": true
   },
   "source": [
    "### Xavier 초깃값"
   ]
  },
  {
   "cell_type": "markdown",
   "id": "brave-wrong",
   "metadata": {
    "hidden": true
   },
   "source": [
    "앞 층의 입력 노드 수에 더하여 다음 계층의 출력 노드 수를 함께 고려하여 초기값을 설정하는 방법  \n",
    "\n",
    "초깃값의 표준편차가 $\\frac{1}{\\sqrt{n}}$이 되도록 설정(n은 앞층의 노드 수)  "
   ]
  },
  {
   "cell_type": "code",
   "execution_count": 36,
   "id": "controlling-section",
   "metadata": {
    "ExecuteTime": {
     "end_time": "2021-01-27T16:17:27.871783Z",
     "start_time": "2021-01-27T16:17:27.192284Z"
    },
    "hidden": true
   },
   "outputs": [
    {
     "data": {
      "image/png": "[encoded data removed]",
      "text/plain": [
       "<Figure size 432x288 with 5 Axes>"
      ]
     },
     "metadata": {
      "needs_background": "light"
     },
     "output_type": "display_data"
    }
   ],
   "source": [
    "for i in range(hidden_layer_size):\n",
    "    if i != 0:\n",
    "        x = activations[i-1]\n",
    "    \n",
    "    w = np.random.randn(node_num, node_num) / np.sqrt(node_num)\n",
    "    a = np.dot(x, w)\n",
    "    z = sigmoid(a)\n",
    "    activations[i] = z\n",
    "    \n",
    "# 히스토그램 그리기\n",
    "for i, a in activations.items():\n",
    "    plt.subplot(1, len(activations), i+1)\n",
    "    plt.title(str(i+1) + \"-layer\")\n",
    "    plt.hist(a.flatten(), 30, range=(0,1))\n",
    "    plt.subplots_adjust(left=2, right=5)\n",
    "\n",
    "plt.show()"
   ]
  },
  {
   "cell_type": "markdown",
   "id": "stainless-techno",
   "metadata": {
    "ExecuteTime": {
     "end_time": "2021-01-27T16:34:17.066584Z",
     "start_time": "2021-01-27T16:34:17.063168Z"
    },
    "hidden": true
   },
   "source": [
    "<br>\n",
    "\n",
    "앞의 두 방식보다 고르게 분포되어 학습이 효율적으로 이루어질 수 있음을 엿볼 수 있다. 시그모이드 함수를 사용했음에도 표현력의 문제가 발생하지 않는다.  \n",
    "\n",
    "<br>"
   ]
  },
  {
   "cell_type": "markdown",
   "id": "contemporary-bouquet",
   "metadata": {
    "ExecuteTime": {
     "end_time": "2021-01-27T16:36:49.875233Z",
     "start_time": "2021-01-27T16:36:49.873121Z"
    },
    "heading_collapsed": true
   },
   "source": [
    "## ReLU 가중치 초깃값 설정 : He"
   ]
  },
  {
   "cell_type": "markdown",
   "id": "aging-brother",
   "metadata": {
    "hidden": true
   },
   "source": [
    "He 초깃값은 ReLU에 특화된 초깃값이다.  \n",
    "\n",
    "앞 계층의 노드가 n개일 때, 표준편차가 $\\sqrt{\\frac{2}{n}}$인 정규분포를 사용한다.  \n",
    "\n",
    "![ReLU_He](http://drive.google.com/uc?id=1Yr_F6gb84-wTU0VR7sGh0-7Da_itTJPC)  \n",
    "\n",
    "해석 결과\n",
    "1. 표준편차가 0.01인 정규분포를 가중치 초깃값으로 사용한 경우 : 학습이 거의 이루어지지 않을 것으로 예상\n",
    "2. Xavier 초깃값을 사용한 경우 : 층이 깊어지면서 치우침이 조금씩 커진다. 실제로 층이 깊어지면 활성화값들의 치우침도 커지고, 학습할 때 '기울기 소실'문제를 일으킨다.\n",
    "3. He 초깃값을 사용한 경우 : 모든 층에서 균일하게 분포, 층이 깊어져도 분포가 균일하게 유지되기에 역전파 때도 적절한 값이 나올 것으로 기대할 수 있다."
   ]
  },
  {
   "cell_type": "markdown",
   "id": "metropolitan-geneva",
   "metadata": {
    "ExecuteTime": {
     "end_time": "2021-01-27T16:52:31.968075Z",
     "start_time": "2021-01-27T16:52:31.965116Z"
    },
    "hidden": true
   },
   "source": [
    "> 활성화함수로 ReLU를 사용할 때 : He 초깃값  \n",
    "> sigmoid나 tanh 등의 S자 모양 곡선일 때 : Xavier 초깃값"
   ]
  },
  {
   "cell_type": "markdown",
   "id": "honest-jerusalem",
   "metadata": {
    "ExecuteTime": {
     "end_time": "2021-01-27T16:56:49.731429Z",
     "start_time": "2021-01-27T16:56:49.729137Z"
    }
   },
   "source": [
    "## MNIST 데이터셋으로 본 가중치 초깃값 비교"
   ]
  },
  {
   "cell_type": "markdown",
   "id": "confidential-setup",
   "metadata": {
    "ExecuteTime": {
     "end_time": "2021-01-28T10:28:16.374491Z",
     "start_time": "2021-01-28T10:28:16.194285Z"
    }
   },
   "source": [
    "![MNIST-optimizer](http://drive.google.com/uc?id=12FviYiG2cxFOEN7OYWLKZOjLCCoeNFlm)  \n",
    "\n",
    "- std=0.01 : 순전파 때 너무 작은 값이 흐르기 때문에, 역전파 때의 기울기도 작아져 가중치가 거의 갱신되지 않는다.\n",
    "- He, Xavier : 둘 다 학습이 잘 되고 있으나, He가 좀 더 빨리 학습하는 것을 볼 수 있다."
   ]
  },
  {
   "cell_type": "markdown",
   "id": "crucial-identifier",
   "metadata": {
    "ExecuteTime": {
     "end_time": "2021-01-28T10:42:15.632267Z",
     "start_time": "2021-01-28T10:42:15.629882Z"
    }
   },
   "source": [
    "# 배치정규화"
   ]
  },
  {
   "cell_type": "markdown",
   "id": "boolean-fiber",
   "metadata": {
    "ExecuteTime": {
     "end_time": "2021-01-28T11:30:10.268858Z",
     "start_time": "2021-01-28T11:30:10.260959Z"
    }
   },
   "source": [
    "## 목적 - Internal Covariate Shift\n",
    "![Internal-Covariance-Shift](http://drive.google.com/uc?id=1SoU1f1keBOUaRs6ORKJCFo7VsYjkJ_0c)  \n",
    "신경망이 깊어질수록 각 Layer를 지날때마다 활성화값의 분포가 점점 한쪽으로 치우치는 현상.  \n",
    "이는 학습을 방해하는 요인으로, 이를 극복하고자 활성화값의 분포가 고르도록 정규화시키는 것.\n",
    "\n",
    "<br>\n",
    "\n",
    "## 배치 정규화 알고리즘\n",
    "![batch_layer](http://drive.google.com/uc?id=1RhJTEgTZAVQ1gp435I0REKFuUP7lkZi8)  \n",
    "\n",
    "$\\mu _{B} \\leftarrow \\frac{1}{m}\\sum_{i=1}^{m}x_{i}$  \n",
    "\n",
    "$\\sigma _{B}^{2}\\leftarrow \\frac{1}{m}\\sum_{i=1}^{m}(x_{i}-\\mu_{B})^2$  \n",
    "\n",
    "$\\hat{x_{i}}\\leftarrow \\frac{x_{i}-\\mu_{B}}{\\sqrt{\\sigma _{B}^{2}+\\epsilon }}$  \n",
    "  \n",
    "- 미니배치를 단위로 데이터 분포가 평균이 0, 분신이 1이 되도록 정규화한다.\n",
    "\n",
    "$y_{i}\\leftarrow \\gamma \\hat{x_{i}}+\\beta $\n",
    "- 정규화된 데이터에 고유한 확대(scale)와 이동(shift) 변환을 수행한다.\n",
    "- 처음에는 $\\gamma=1$, $\\beta=0$부터 시작하고, 학습하면서 적합한 값으로 조정해간다.\n",
    "\n",
    "\n",
    "<br>\n",
    "\n",
    "## 효과\n",
    "<img src=\"http://drive.google.com/uc?id=1O50-MhcSAACvF-_wAerEaCELtnNyPkwC\" width=\"600\">\n",
    "\n",
    "- 가중치의 초깃값의 표준편차에 따른 배치정규화(실선), 사용하지 않은 경우(점선)를 나타낸 그래프  \n",
    "- 거의 모든 경우에서 배치 정규화를 사용할 때 학습 진도가 빠르다.  \n",
    "- 배치정규화를 이용하지 않는 경우 초깃값이 잘 분포되어 있지 않으면, 학습이 전혀 진행하지 않는 모습도 보인다.  \n",
    "\n",
    "1. 학습을 빨리 진행할 수 있다.\n",
    "2. 초깃값에 크게 의존하지 않는다.\n",
    "3. 오버피팅을 억제한다.(드롭아웃 등의 필요성 감소)\n",
    "\n",
    "<br>\n",
    "\n",
    "## NLP에서의 배치정규화\n",
    "- NLP(자연어처리)에서는 크게 효과가 없다고 한다.\n",
    "- NLP는 이미지보다는 층이 얕은 모델을 주로 사용하기 때문에, 깊은 층에서 눈부신 활약을 하는 배치 정규화가 상대적으로 활약을 잘 못한다고 한다.  \n",
    "\n",
    "참고 : https://stellarway.tistory.com/26\n",
    "\n",
    "<br><br><br><br><br>"
   ]
  },
  {
   "cell_type": "markdown",
   "id": "numeric-responsibility",
   "metadata": {
    "ExecuteTime": {
     "end_time": "2021-01-28T13:01:24.385454Z",
     "start_time": "2021-01-28T13:01:24.383187Z"
    }
   },
   "source": [
    "# 바른 학습을 위해"
   ]
  },
  {
   "cell_type": "markdown",
   "id": "coordinate-communist",
   "metadata": {},
   "source": [
    "## overfitting"
   ]
  },
  {
   "cell_type": "markdown",
   "id": "aware-participation",
   "metadata": {},
   "source": [
    "**훈련데이터에만 지나치게 적응되어 그 외의 데이터에는 제대로 대응하지 못하는 상태**  \n",
    "\n",
    "### 원인\n",
    "- 매개변수가 많고 표현력이 높은 모델\n",
    "- 훈련데이터가 적음"
   ]
  },
  {
   "cell_type": "code",
   "execution_count": 46,
   "id": "speaking-vertex",
   "metadata": {
    "ExecuteTime": {
     "end_time": "2021-01-28T13:08:08.992836Z",
     "start_time": "2021-01-28T13:07:33.888001Z"
    }
   },
   "outputs": [
    {
     "name": "stdout",
     "output_type": "stream",
     "text": [
      "Converting train-images-idx3-ubyte.gz to NumPy Array ...\n",
      "Done\n",
      "Converting train-labels-idx1-ubyte.gz to NumPy Array ...\n",
      "Done\n",
      "Converting t10k-images-idx3-ubyte.gz to NumPy Array ...\n",
      "Done\n",
      "Converting t10k-labels-idx1-ubyte.gz to NumPy Array ...\n",
      "Done\n",
      "Creating pickle file ...\n",
      "Done!\n",
      "epoch:0, train acc:0.12666666666666668, test acc:0.1134\n",
      "epoch:1, train acc:0.13666666666666666, test acc:0.1173\n",
      "epoch:2, train acc:0.14666666666666667, test acc:0.1237\n",
      "epoch:3, train acc:0.17333333333333334, test acc:0.1321\n",
      "epoch:4, train acc:0.18333333333333332, test acc:0.1399\n",
      "epoch:5, train acc:0.21, test acc:0.1503\n",
      "epoch:6, train acc:0.22666666666666666, test acc:0.1613\n",
      "epoch:7, train acc:0.23666666666666666, test acc:0.1698\n",
      "epoch:8, train acc:0.23666666666666666, test acc:0.1745\n",
      "epoch:9, train acc:0.23666666666666666, test acc:0.1685\n",
      "epoch:10, train acc:0.24333333333333335, test acc:0.1785\n",
      "epoch:11, train acc:0.27, test acc:0.1929\n",
      "epoch:12, train acc:0.27, test acc:0.1881\n",
      "epoch:13, train acc:0.3, test acc:0.2021\n",
      "epoch:14, train acc:0.31666666666666665, test acc:0.2179\n",
      "epoch:15, train acc:0.31, test acc:0.2227\n",
      "epoch:16, train acc:0.31, test acc:0.2219\n",
      "epoch:17, train acc:0.33666666666666667, test acc:0.2421\n",
      "epoch:18, train acc:0.34, test acc:0.2468\n",
      "epoch:19, train acc:0.36333333333333334, test acc:0.2636\n",
      "epoch:20, train acc:0.37333333333333335, test acc:0.2706\n",
      "epoch:21, train acc:0.3933333333333333, test acc:0.2799\n",
      "epoch:22, train acc:0.41, test acc:0.3024\n",
      "epoch:23, train acc:0.4166666666666667, test acc:0.3061\n",
      "epoch:24, train acc:0.43333333333333335, test acc:0.3164\n",
      "epoch:25, train acc:0.47, test acc:0.3368\n",
      "epoch:26, train acc:0.4866666666666667, test acc:0.3445\n",
      "epoch:27, train acc:0.5366666666666666, test acc:0.366\n",
      "epoch:28, train acc:0.54, test acc:0.3741\n",
      "epoch:29, train acc:0.5233333333333333, test acc:0.3785\n",
      "epoch:30, train acc:0.5566666666666666, test acc:0.3966\n",
      "epoch:31, train acc:0.5766666666666667, test acc:0.4093\n",
      "epoch:32, train acc:0.5833333333333334, test acc:0.4251\n",
      "epoch:33, train acc:0.6033333333333334, test acc:0.4255\n",
      "epoch:34, train acc:0.61, test acc:0.4337\n",
      "epoch:35, train acc:0.61, test acc:0.4243\n",
      "epoch:36, train acc:0.6266666666666667, test acc:0.4406\n",
      "epoch:37, train acc:0.66, test acc:0.4663\n",
      "epoch:38, train acc:0.7033333333333334, test acc:0.5002\n",
      "epoch:39, train acc:0.7333333333333333, test acc:0.5111\n",
      "epoch:40, train acc:0.72, test acc:0.5173\n",
      "epoch:41, train acc:0.7433333333333333, test acc:0.5296\n",
      "epoch:42, train acc:0.7333333333333333, test acc:0.5357\n",
      "epoch:43, train acc:0.76, test acc:0.5565\n",
      "epoch:44, train acc:0.79, test acc:0.5654\n",
      "epoch:45, train acc:0.8033333333333333, test acc:0.5759\n",
      "epoch:46, train acc:0.8233333333333334, test acc:0.5805\n",
      "epoch:47, train acc:0.8133333333333334, test acc:0.591\n",
      "epoch:48, train acc:0.8033333333333333, test acc:0.5802\n",
      "epoch:49, train acc:0.82, test acc:0.5948\n",
      "epoch:50, train acc:0.8066666666666666, test acc:0.5895\n",
      "epoch:51, train acc:0.8133333333333334, test acc:0.5995\n",
      "epoch:52, train acc:0.8233333333333334, test acc:0.5974\n",
      "epoch:53, train acc:0.8233333333333334, test acc:0.6042\n",
      "epoch:54, train acc:0.7966666666666666, test acc:0.5878\n",
      "epoch:55, train acc:0.82, test acc:0.6114\n",
      "epoch:56, train acc:0.8166666666666667, test acc:0.6027\n",
      "epoch:57, train acc:0.8166666666666667, test acc:0.6103\n",
      "epoch:58, train acc:0.8366666666666667, test acc:0.615\n",
      "epoch:59, train acc:0.8333333333333334, test acc:0.6161\n",
      "epoch:60, train acc:0.8333333333333334, test acc:0.6237\n",
      "epoch:61, train acc:0.8533333333333334, test acc:0.6329\n",
      "epoch:62, train acc:0.8566666666666667, test acc:0.6281\n",
      "epoch:63, train acc:0.84, test acc:0.6262\n",
      "epoch:64, train acc:0.85, test acc:0.6256\n",
      "epoch:65, train acc:0.84, test acc:0.6347\n",
      "epoch:66, train acc:0.8366666666666667, test acc:0.6303\n",
      "epoch:67, train acc:0.85, test acc:0.6346\n",
      "epoch:68, train acc:0.8366666666666667, test acc:0.6286\n",
      "epoch:69, train acc:0.8533333333333334, test acc:0.6397\n",
      "epoch:70, train acc:0.8566666666666667, test acc:0.6437\n",
      "epoch:71, train acc:0.86, test acc:0.6426\n",
      "epoch:72, train acc:0.8633333333333333, test acc:0.6491\n",
      "epoch:73, train acc:0.8666666666666667, test acc:0.6457\n",
      "epoch:74, train acc:0.8766666666666667, test acc:0.6498\n",
      "epoch:75, train acc:0.87, test acc:0.643\n",
      "epoch:76, train acc:0.8666666666666667, test acc:0.6493\n",
      "epoch:77, train acc:0.87, test acc:0.6548\n",
      "epoch:78, train acc:0.86, test acc:0.6489\n",
      "epoch:79, train acc:0.8766666666666667, test acc:0.6602\n",
      "epoch:80, train acc:0.8866666666666667, test acc:0.6529\n",
      "epoch:81, train acc:0.88, test acc:0.6477\n",
      "epoch:82, train acc:0.8866666666666667, test acc:0.658\n",
      "epoch:83, train acc:0.8866666666666667, test acc:0.6611\n",
      "epoch:84, train acc:0.8766666666666667, test acc:0.6555\n",
      "epoch:85, train acc:0.8833333333333333, test acc:0.6535\n",
      "epoch:86, train acc:0.89, test acc:0.6597\n",
      "epoch:87, train acc:0.8833333333333333, test acc:0.6552\n",
      "epoch:88, train acc:0.88, test acc:0.6608\n",
      "epoch:89, train acc:0.8866666666666667, test acc:0.6599\n",
      "epoch:90, train acc:0.8933333333333333, test acc:0.6578\n",
      "epoch:91, train acc:0.8866666666666667, test acc:0.6602\n",
      "epoch:92, train acc:0.9066666666666666, test acc:0.6679\n",
      "epoch:93, train acc:0.9066666666666666, test acc:0.6698\n",
      "epoch:94, train acc:0.9066666666666666, test acc:0.6619\n",
      "epoch:95, train acc:0.9066666666666666, test acc:0.6686\n",
      "epoch:96, train acc:0.9066666666666666, test acc:0.6745\n",
      "epoch:97, train acc:0.8966666666666666, test acc:0.6724\n",
      "epoch:98, train acc:0.9, test acc:0.6724\n",
      "epoch:99, train acc:0.9033333333333333, test acc:0.6669\n",
      "epoch:100, train acc:0.91, test acc:0.6739\n",
      "epoch:101, train acc:0.9033333333333333, test acc:0.6682\n",
      "epoch:102, train acc:0.9, test acc:0.6604\n",
      "epoch:103, train acc:0.9133333333333333, test acc:0.6604\n",
      "epoch:104, train acc:0.8966666666666666, test acc:0.6577\n",
      "epoch:105, train acc:0.89, test acc:0.6599\n",
      "epoch:106, train acc:0.9, test acc:0.6633\n",
      "epoch:107, train acc:0.9, test acc:0.6759\n",
      "epoch:108, train acc:0.9166666666666666, test acc:0.6756\n",
      "epoch:109, train acc:0.9133333333333333, test acc:0.6762\n",
      "epoch:110, train acc:0.9166666666666666, test acc:0.6692\n",
      "epoch:111, train acc:0.9133333333333333, test acc:0.6798\n",
      "epoch:112, train acc:0.8966666666666666, test acc:0.6704\n",
      "epoch:113, train acc:0.9033333333333333, test acc:0.6733\n",
      "epoch:114, train acc:0.91, test acc:0.6726\n",
      "epoch:115, train acc:0.9133333333333333, test acc:0.6772\n",
      "epoch:116, train acc:0.9166666666666666, test acc:0.6645\n",
      "epoch:117, train acc:0.9133333333333333, test acc:0.6812\n",
      "epoch:118, train acc:0.9266666666666666, test acc:0.6817\n",
      "epoch:119, train acc:0.9133333333333333, test acc:0.6747\n",
      "epoch:120, train acc:0.9233333333333333, test acc:0.6777\n",
      "epoch:121, train acc:0.92, test acc:0.6801\n",
      "epoch:122, train acc:0.91, test acc:0.6713\n",
      "epoch:123, train acc:0.9133333333333333, test acc:0.6769\n",
      "epoch:124, train acc:0.9266666666666666, test acc:0.6802\n",
      "epoch:125, train acc:0.9066666666666666, test acc:0.6785\n",
      "epoch:126, train acc:0.9133333333333333, test acc:0.6784\n",
      "epoch:127, train acc:0.8866666666666667, test acc:0.6694\n",
      "epoch:128, train acc:0.91, test acc:0.6749\n",
      "epoch:129, train acc:0.9133333333333333, test acc:0.683\n",
      "epoch:130, train acc:0.92, test acc:0.6814\n",
      "epoch:131, train acc:0.9266666666666666, test acc:0.6884\n",
      "epoch:132, train acc:0.92, test acc:0.6902\n",
      "epoch:133, train acc:0.9166666666666666, test acc:0.6835\n",
      "epoch:134, train acc:0.92, test acc:0.682\n",
      "epoch:135, train acc:0.9266666666666666, test acc:0.6864\n",
      "epoch:136, train acc:0.92, test acc:0.684\n",
      "epoch:137, train acc:0.9266666666666666, test acc:0.6862\n",
      "epoch:138, train acc:0.93, test acc:0.6913\n",
      "epoch:139, train acc:0.9233333333333333, test acc:0.687\n",
      "epoch:140, train acc:0.9233333333333333, test acc:0.6854\n",
      "epoch:141, train acc:0.9233333333333333, test acc:0.687\n",
      "epoch:142, train acc:0.93, test acc:0.69\n",
      "epoch:143, train acc:0.9333333333333333, test acc:0.6863\n",
      "epoch:144, train acc:0.9333333333333333, test acc:0.6818\n",
      "epoch:145, train acc:0.93, test acc:0.6875\n",
      "epoch:146, train acc:0.93, test acc:0.6798\n",
      "epoch:147, train acc:0.93, test acc:0.6849\n",
      "epoch:148, train acc:0.9266666666666666, test acc:0.6802\n",
      "epoch:149, train acc:0.92, test acc:0.685\n",
      "epoch:150, train acc:0.9266666666666666, test acc:0.6854\n",
      "epoch:151, train acc:0.9266666666666666, test acc:0.6852\n",
      "epoch:152, train acc:0.93, test acc:0.6859\n",
      "epoch:153, train acc:0.93, test acc:0.6848\n"
     ]
    },
    {
     "name": "stdout",
     "output_type": "stream",
     "text": [
      "epoch:154, train acc:0.92, test acc:0.6839\n",
      "epoch:155, train acc:0.9166666666666666, test acc:0.6777\n",
      "epoch:156, train acc:0.9166666666666666, test acc:0.6852\n",
      "epoch:157, train acc:0.9333333333333333, test acc:0.6884\n",
      "epoch:158, train acc:0.92, test acc:0.6836\n",
      "epoch:159, train acc:0.92, test acc:0.6808\n",
      "epoch:160, train acc:0.9166666666666666, test acc:0.669\n",
      "epoch:161, train acc:0.93, test acc:0.6796\n",
      "epoch:162, train acc:0.93, test acc:0.6867\n",
      "epoch:163, train acc:0.93, test acc:0.6885\n",
      "epoch:164, train acc:0.93, test acc:0.6926\n",
      "epoch:165, train acc:0.93, test acc:0.6915\n",
      "epoch:166, train acc:0.9366666666666666, test acc:0.6891\n",
      "epoch:167, train acc:0.92, test acc:0.681\n",
      "epoch:168, train acc:0.93, test acc:0.6869\n",
      "epoch:169, train acc:0.9233333333333333, test acc:0.6829\n",
      "epoch:170, train acc:0.93, test acc:0.6895\n",
      "epoch:171, train acc:0.9266666666666666, test acc:0.6865\n",
      "epoch:172, train acc:0.9233333333333333, test acc:0.6824\n",
      "epoch:173, train acc:0.93, test acc:0.6872\n",
      "epoch:174, train acc:0.9266666666666666, test acc:0.681\n",
      "epoch:175, train acc:0.9033333333333333, test acc:0.6752\n",
      "epoch:176, train acc:0.8833333333333333, test acc:0.6762\n",
      "epoch:177, train acc:0.91, test acc:0.6791\n",
      "epoch:178, train acc:0.9066666666666666, test acc:0.6779\n",
      "epoch:179, train acc:0.8833333333333333, test acc:0.673\n",
      "epoch:180, train acc:0.91, test acc:0.675\n",
      "epoch:181, train acc:0.91, test acc:0.6774\n",
      "epoch:182, train acc:0.9066666666666666, test acc:0.6809\n",
      "epoch:183, train acc:0.9133333333333333, test acc:0.6807\n",
      "epoch:184, train acc:0.9066666666666666, test acc:0.6858\n",
      "epoch:185, train acc:0.91, test acc:0.6815\n",
      "epoch:186, train acc:0.9, test acc:0.6801\n",
      "epoch:187, train acc:0.9166666666666666, test acc:0.6798\n",
      "epoch:188, train acc:0.9233333333333333, test acc:0.6859\n",
      "epoch:189, train acc:0.9066666666666666, test acc:0.6813\n",
      "epoch:190, train acc:0.92, test acc:0.6872\n",
      "epoch:191, train acc:0.91, test acc:0.6844\n",
      "epoch:192, train acc:0.9266666666666666, test acc:0.6892\n",
      "epoch:193, train acc:0.9066666666666666, test acc:0.687\n",
      "epoch:194, train acc:0.9333333333333333, test acc:0.6882\n",
      "epoch:195, train acc:0.9266666666666666, test acc:0.6905\n",
      "epoch:196, train acc:0.9133333333333333, test acc:0.679\n",
      "epoch:197, train acc:0.9066666666666666, test acc:0.6837\n",
      "epoch:198, train acc:0.91, test acc:0.686\n",
      "epoch:199, train acc:0.9066666666666666, test acc:0.6852\n",
      "epoch:200, train acc:0.8966666666666666, test acc:0.686\n"
     ]
    },
    {
     "data": {
      "image/png": "[encoded data removed]",
      "text/plain": [
       "<Figure size 432x288 with 1 Axes>"
      ]
     },
     "metadata": {
      "needs_background": "light"
     },
     "output_type": "display_data"
    }
   ],
   "source": [
    "# coding: utf-8\n",
    "import os\n",
    "import sys\n",
    "\n",
    "sys.path.append(os.pardir)  # 부모 디렉터리의 파일을 가져올 수 있도록 설정\n",
    "import numpy as np\n",
    "import matplotlib.pyplot as plt\n",
    "from dataset.mnist import load_mnist\n",
    "from common.multi_layer_net import MultiLayerNet\n",
    "from common.optimizer import SGD\n",
    "\n",
    "(x_train, t_train), (x_test, t_test) = load_mnist(normalize=True)\n",
    "\n",
    "# 오버피팅을 재현하기 위해 학습 데이터 수를 줄임\n",
    "x_train = x_train[:300]\n",
    "t_train = t_train[:300]\n",
    "\n",
    "# weight decay（가중치 감쇠） 설정 =======================\n",
    "#weight_decay_lambda = 0 # weight decay를 사용하지 않을 경우\n",
    "weight_decay_lambda = 0.1\n",
    "# ====================================================\n",
    "\n",
    "network = MultiLayerNet(input_size=784, hidden_size_list=[100, 100, 100, 100, 100, 100], output_size=10,\n",
    "                        weight_decay_lambda=weight_decay_lambda)\n",
    "optimizer = SGD(lr=0.01) # 학습률이 0.01인 SGD로 매개변수 갱신\n",
    "\n",
    "max_epochs = 201\n",
    "train_size = x_train.shape[0]\n",
    "batch_size = 100\n",
    "\n",
    "train_loss_list = []\n",
    "train_acc_list = []\n",
    "test_acc_list = []\n",
    "\n",
    "iter_per_epoch = max(train_size / batch_size, 1)\n",
    "epoch_cnt = 0\n",
    "\n",
    "for i in range(1000000000):\n",
    "    batch_mask = np.random.choice(train_size, batch_size)\n",
    "    x_batch = x_train[batch_mask]\n",
    "    t_batch = t_train[batch_mask]\n",
    "\n",
    "    grads = network.gradient(x_batch, t_batch)\n",
    "    optimizer.update(network.params, grads)\n",
    "\n",
    "    if i % iter_per_epoch == 0:\n",
    "        train_acc = network.accuracy(x_train, t_train)\n",
    "        test_acc = network.accuracy(x_test, t_test)\n",
    "        train_acc_list.append(train_acc)\n",
    "        test_acc_list.append(test_acc)\n",
    "\n",
    "        print(\"epoch:\" + str(epoch_cnt) + \", train acc:\" + str(train_acc) + \", test acc:\" + str(test_acc))\n",
    "\n",
    "        epoch_cnt += 1\n",
    "        if epoch_cnt >= max_epochs:\n",
    "            break\n",
    "\n",
    "\n",
    "# 그래프 그리기==========\n",
    "markers = {'train': 'o', 'test': 's'}\n",
    "x = np.arange(max_epochs)\n",
    "plt.plot(x, train_acc_list, marker='o', label='train', markevery=10)\n",
    "plt.plot(x, test_acc_list, marker='s', label='test', markevery=10)\n",
    "plt.xlabel(\"epochs\")\n",
    "plt.ylabel(\"accuracy\")\n",
    "plt.ylim(0, 1.0)\n",
    "plt.legend(loc='lower right')\n",
    "plt.show()\n"
   ]
  },
  {
   "cell_type": "markdown",
   "id": "false-wednesday",
   "metadata": {
    "ExecuteTime": {
     "end_time": "2021-01-28T13:36:29.382998Z",
     "start_time": "2021-01-28T13:36:29.380912Z"
    }
   },
   "source": [
    "## 가중치 감소"
   ]
  },
  {
   "cell_type": "markdown",
   "id": "grave-creativity",
   "metadata": {
    "ExecuteTime": {
     "end_time": "2021-01-28T13:37:37.250172Z",
     "start_time": "2021-01-28T13:37:37.246096Z"
    }
   },
   "source": [
    "**학습 과정에서 큰 가중치에 대해서는 그에 상응하는 패널티를 부여하여 오버피팅을 억제하는 방법**\n",
    "\n",
    "$\\frac{1}{2}\\lambda W^2$  \n",
    "\n",
    "- 손실함수에 가중치의 L2노름을 더한 가중치 감소\n",
    "- $\\frac{1}{2}$ : $\\frac{1}{2}\\lambda W^2$의 미분결과인 $\\lambda W$를 조정하는 역할의 상수\n",
    "- $\\lambda$(람다) : 정규화의 세기를 조절하는 하이퍼파라미터, $\\lambda$를 크게 설정할수록 큰 가중치에 대한 패널티가 커진다.\n",
    "\n",
    "![Internal-Covariance-Shift](http://drive.google.com/uc?id=1ROhAQIkKSN4iNsspKL5mnn4VudmMEhEb)  \n",
    "\n",
    "- L1\n",
    "- L2"
   ]
  },
  {
   "cell_type": "markdown",
   "id": "employed-identification",
   "metadata": {
    "ExecuteTime": {
     "end_time": "2021-01-28T13:41:45.589555Z",
     "start_time": "2021-01-28T13:41:45.587394Z"
    }
   },
   "source": [
    "## 드롭아웃"
   ]
  },
  {
   "cell_type": "markdown",
   "id": "continental-birthday",
   "metadata": {},
   "source": [
    "<img src=\"http://drive.google.com/uc?id=176_MpNnihG-QqyRd5MO9gDhuDq-1Zzlx\" width=\"500\">\n",
    "\n",
    "**신경망 모델이 복잡해질 때 가중치 감소만으로는 어려운데 드롭아웃 기법은 뉴런의 연결을 임의로 삭제하는 것**  \n",
    "- 훈련할 때 임의의 뉴런을 골라 삭제하여 신호를 전달하지 않게 한다.\n",
    "- 테스트할 때는 모든 뉴런을 사용하되, 각 뉴런의 출력에 훈련 때 사용 안 한 비율을 곱하여 출력한다."
   ]
  },
  {
   "cell_type": "code",
   "execution_count": 51,
   "id": "dominican-traveler",
   "metadata": {
    "ExecuteTime": {
     "end_time": "2021-01-28T14:18:50.162621Z",
     "start_time": "2021-01-28T14:18:50.157247Z"
    }
   },
   "outputs": [],
   "source": [
    "class Dropout:\n",
    "    \"\"\"\n",
    "    http://arxiv.org/abs/1207.0580\n",
    "    \"\"\"\n",
    "    def __init__(self, dropout_ratio=0.5):\n",
    "        self.dropout_ratio = dropout_ratio\n",
    "        self.mask = None\n",
    "\n",
    "    def forward(self, x, train_flg=True):  # train_flg : 훈련인지 아닌지.\n",
    "        if train_flg:\n",
    "            # x와 shape가 같은 배열을 무작위로 생성해주고, 그 값이 dropout_ratio보다 큰 원소만 True로 설정한다.\n",
    "            self.mask = np.random.rand(*x.shape) > self.dropout_ratio\n",
    "            return x * self.mask\n",
    "        else:\n",
    "            return x * (1.0 - self.dropout_ratio)\n",
    "\n",
    "    def backward(self, dout):\n",
    "        return dout * self.mask  # 순전파 때 통과 -> 그대로 통과 / 미통과 -> 신호차단"
   ]
  },
  {
   "cell_type": "markdown",
   "id": "agricultural-builder",
   "metadata": {},
   "source": [
    "<img src=\"http://drive.google.com/uc?id=1yz1aZTgERYvvLtd6URJn18MCLSdgEq6x\" width=\"500\">\n",
    "\n",
    "train acc:0.7466666666666667, test acc:0.6"
   ]
  },
  {
   "cell_type": "markdown",
   "id": "potential-genre",
   "metadata": {
    "ExecuteTime": {
     "end_time": "2021-01-28T14:34:33.973426Z",
     "start_time": "2021-01-28T14:34:33.971382Z"
    }
   },
   "source": [
    "## 적절한 하이퍼파라미터 찾기"
   ]
  },
  {
   "cell_type": "markdown",
   "id": "motivated-spanking",
   "metadata": {},
   "source": [
    "> **하이퍼파라미터** : 모델링할 때 사용자가 직접 세팅해주는 값  \n",
    "> **파라미터** : 모델 혹은 데이터에 의해 결정  \n",
    "\n",
    "### 검증데이터 validation data\n",
    "  - 훈련데이터 : 매개변수 학습\n",
    "  - 검증데이터 : 하이퍼파라미터 성능 평가\n",
    "  - 시험데이터 : 신경망의 범용 성능 평가  \n",
    "\n",
    "```python\n",
    "(x_train, t_train), (x_test, t_test) = load_mnist()\n",
    "\n",
    "# 훈련데이터를 섞는다.\n",
    "x_train, t_train = shuffle_dataset(x_train, t_train)\n",
    "\n",
    "# 20%를 검증데이터로 분할\n",
    "validation_rate = 0.20\n",
    "validation_num = int(x_train.shape[0] * validation_rate)\n",
    "\n",
    "x_val = x_train[:validation_num]\n",
    "t_val = t_train[:validation_num]\n",
    "x_train = x_train[validation_num:]\n",
    "t_train = t_train[validation_num:]\n",
    "```\n",
    "  \n",
    "### 하이퍼파라미터 최적화  \n",
    "- 최적값이 존재하는 범위를 줄여나간다.\n",
    "- 그리드서치(규칙적 탐색)보다는 무작위로 샘플링하는 것이 더 좋다. 최종 정확도에 미치는 영향력이 하이퍼파라미터마다 다르기 때문.\n",
    "\n",
    "**순서**\n",
    "1. 하이퍼파라미터 값의 범위를 설정한다.\n",
    "2. 설정된 범위에서 하이퍼파라미터 값을 무작위로 추출한다.\n",
    "3. 추출한 하이퍼파라미터 값을 사용하여 학습하고, 검증데이터로 정확도를 평가한다.(단, 에폭은 작게 설정)\n",
    "4. 2단계와 3단계를 특정 횟수만큼 반복하며, 그 정확도의 결과를 보고 하이퍼파라미터의 범위를 좁힌다.\n",
    "\n",
    "**하이퍼파라미터를 찾기 위한 방법**\n",
    "- Manual Search\n",
    "- Grid Search\n",
    "- Random Search\n",
    "- Bayesian optimization : 알려지지 않은 목적 함수를 최대(혹은 최소)로 하는 최적해를 찾는 기법\n",
    "- Evolutionary algorithm  \n",
    "참고 : https://wooono.tistory.com/102\n"
   ]
  },
  {
   "cell_type": "code",
   "execution_count": 53,
   "id": "union-patio",
   "metadata": {
    "ExecuteTime": {
     "end_time": "2021-01-28T15:13:16.921418Z",
     "start_time": "2021-01-28T15:11:19.338257Z"
    }
   },
   "outputs": [
    {
     "name": "stdout",
     "output_type": "stream",
     "text": [
      "val acc:0.15 | lr:0.0004629305021427276, weight decay:1.3368197148842075e-06\n",
      "val acc:0.74 | lr:0.00784246351455384, weight decay:5.305053120079901e-06\n",
      "val acc:0.28 | lr:0.002104110443708133, weight decay:1.824883114896671e-07\n",
      "val acc:0.14 | lr:3.058603251197281e-05, weight decay:1.132787170449309e-06\n",
      "val acc:0.08 | lr:5.790630290458108e-06, weight decay:1.5719376103656827e-05\n",
      "val acc:0.72 | lr:0.006319714585734379, weight decay:6.8482572756237765e-06\n",
      "val acc:0.12 | lr:5.291080167541607e-06, weight decay:4.7572417865358215e-08\n",
      "val acc:0.05 | lr:2.305448242539745e-06, weight decay:1.5114921516851472e-08\n",
      "val acc:0.09 | lr:0.00044392288827857377, weight decay:1.4490641925471832e-07\n",
      "val acc:0.14 | lr:0.0005069578197873911, weight decay:5.055353630814208e-05\n",
      "val acc:0.73 | lr:0.007507693008108907, weight decay:4.855594524878592e-06\n",
      "val acc:0.51 | lr:0.003396058130989503, weight decay:8.051963180821867e-06\n",
      "val acc:0.15 | lr:0.0014449525583155982, weight decay:1.5306018331647155e-08\n",
      "val acc:0.1 | lr:3.918134297495064e-05, weight decay:4.846544044731629e-07\n",
      "val acc:0.14 | lr:3.7477705494595985e-06, weight decay:5.184295993192852e-06\n",
      "val acc:0.07 | lr:0.0001550805247902721, weight decay:4.299570220599015e-06\n",
      "val acc:0.71 | lr:0.006897584923685664, weight decay:4.618756349100312e-07\n",
      "val acc:0.13 | lr:9.719774462793132e-06, weight decay:2.3096137019957264e-05\n",
      "val acc:0.17 | lr:1.4011618544344702e-06, weight decay:1.1157114728692202e-06\n",
      "val acc:0.1 | lr:3.855854123785772e-05, weight decay:2.2345380593420395e-08\n",
      "val acc:0.3 | lr:0.0015719943063742152, weight decay:1.155416388814608e-08\n",
      "val acc:0.06 | lr:8.854660507492718e-06, weight decay:8.910058120246106e-07\n",
      "val acc:0.27 | lr:0.0015220398303824139, weight decay:2.0298514319448776e-05\n",
      "val acc:0.11 | lr:6.984513439045985e-06, weight decay:1.3158011686080794e-06\n",
      "val acc:0.12 | lr:7.2953619403694115e-06, weight decay:4.909894539971567e-05\n",
      "val acc:0.11 | lr:1.2622660273697522e-05, weight decay:7.257900126595535e-07\n",
      "val acc:0.07 | lr:1.3094993295919762e-05, weight decay:6.6226751481235476e-06\n",
      "val acc:0.09 | lr:0.00022621350987773642, weight decay:1.3115124543140777e-05\n",
      "val acc:0.12 | lr:3.0151192355469318e-05, weight decay:2.7943375738993223e-06\n",
      "val acc:0.52 | lr:0.003464914441536612, weight decay:2.428540140874959e-07\n",
      "val acc:0.17 | lr:0.0007869435404917546, weight decay:3.3540657017532265e-05\n",
      "val acc:0.11 | lr:3.7619653391701015e-06, weight decay:1.6110241072523428e-07\n",
      "val acc:0.14 | lr:1.111768452909121e-05, weight decay:2.3129337232369232e-07\n",
      "val acc:0.06 | lr:9.298393653749044e-05, weight decay:8.172144998063308e-08\n",
      "val acc:0.14 | lr:0.00035793726901246715, weight decay:5.897513084139951e-08\n",
      "val acc:0.13 | lr:0.0007263036438026768, weight decay:1.0768709294637157e-07\n",
      "val acc:0.63 | lr:0.004584099737481459, weight decay:1.4504231452590255e-06\n",
      "val acc:0.37 | lr:0.0015642471358828934, weight decay:4.295337155938601e-05\n",
      "val acc:0.21 | lr:7.39859866610925e-05, weight decay:1.4356789237680454e-06\n",
      "val acc:0.29 | lr:0.0032280982427303154, weight decay:2.7675596203773104e-05\n",
      "val acc:0.2 | lr:0.00040945362006044683, weight decay:7.708565320863777e-08\n",
      "val acc:0.33 | lr:0.001794579539028373, weight decay:1.6915393566283302e-05\n",
      "val acc:0.14 | lr:3.8773909275957266e-05, weight decay:2.955152374213041e-06\n",
      "val acc:0.11 | lr:5.999451019243743e-05, weight decay:3.0352201689617276e-06\n",
      "val acc:0.09 | lr:9.431188482152087e-05, weight decay:1.624316653591968e-05\n",
      "val acc:0.71 | lr:0.009010360762276067, weight decay:9.472541453001617e-05\n",
      "val acc:0.07 | lr:1.5530150118481529e-06, weight decay:7.787717127187569e-08\n",
      "val acc:0.09 | lr:4.903409764280838e-06, weight decay:6.764667102699304e-08\n",
      "val acc:0.14 | lr:0.00010858320491487775, weight decay:9.960532947776651e-05\n",
      "val acc:0.33 | lr:0.002328620191906482, weight decay:5.162932520648487e-05\n",
      "val acc:0.54 | lr:0.003867850513729261, weight decay:2.0938126035034492e-05\n",
      "val acc:0.14 | lr:0.00029050383515405925, weight decay:1.1529943925966703e-06\n",
      "val acc:0.11 | lr:1.9069504119853199e-06, weight decay:7.705802488654112e-06\n",
      "val acc:0.11 | lr:8.647564388252793e-06, weight decay:8.300109674809217e-07\n",
      "val acc:0.1 | lr:3.868175439737084e-06, weight decay:1.5681559399994018e-07\n",
      "val acc:0.07 | lr:6.74327155500929e-05, weight decay:4.940498419169846e-07\n",
      "val acc:0.08 | lr:3.0172414124487542e-05, weight decay:1.858376804658975e-05\n",
      "val acc:0.16 | lr:0.0013604598849723366, weight decay:1.7120440062981779e-06\n",
      "val acc:0.11 | lr:5.520333124652718e-06, weight decay:9.065351707886743e-07\n",
      "val acc:0.26 | lr:0.0017524595793003814, weight decay:2.304971165452726e-06\n",
      "val acc:0.1 | lr:5.699904306885039e-06, weight decay:4.841449940810269e-06\n",
      "val acc:0.11 | lr:1.4614532483587201e-05, weight decay:3.0765915438735813e-06\n",
      "val acc:0.11 | lr:1.6534435332918774e-06, weight decay:7.502284066479623e-08\n",
      "val acc:0.11 | lr:6.240929150932921e-06, weight decay:4.3367338681391566e-05\n",
      "val acc:0.67 | lr:0.0047246619261014, weight decay:3.244502062807198e-07\n",
      "val acc:0.15 | lr:3.234651782874818e-06, weight decay:2.6250433298327635e-05\n",
      "val acc:0.15 | lr:4.145880527710358e-06, weight decay:2.4924432030660843e-05\n",
      "val acc:0.15 | lr:1.620284934217334e-06, weight decay:7.819493174726885e-08\n",
      "val acc:0.66 | lr:0.00571862327714606, weight decay:4.477590072189879e-08\n",
      "val acc:0.24 | lr:0.0014660808721690965, weight decay:6.993615144587582e-05\n",
      "val acc:0.34 | lr:0.0022924849753834615, weight decay:4.52177134214738e-07\n",
      "val acc:0.07 | lr:7.272865550520144e-05, weight decay:1.3543101445949173e-08\n",
      "val acc:0.32 | lr:0.001396517071199031, weight decay:1.0897828873215495e-05\n",
      "val acc:0.28 | lr:0.0005402842252482929, weight decay:1.71120215851357e-07\n",
      "val acc:0.13 | lr:1.4882079597550201e-06, weight decay:8.493584916884524e-05\n",
      "val acc:0.43 | lr:0.0021737489236185814, weight decay:3.551614745528567e-05\n",
      "val acc:0.15 | lr:0.00042703137217814976, weight decay:2.2255076686253735e-05\n",
      "val acc:0.47 | lr:0.002498790018375607, weight decay:7.274314642442292e-08\n",
      "val acc:0.53 | lr:0.0031435200949645127, weight decay:2.2458616719024534e-07\n",
      "val acc:0.1 | lr:1.8733971905792383e-06, weight decay:7.889242872577954e-06\n",
      "val acc:0.51 | lr:0.004152598347072915, weight decay:2.8054616404061687e-06\n",
      "val acc:0.12 | lr:0.00026288245032482255, weight decay:3.2680824719028425e-08\n",
      "val acc:0.14 | lr:2.409684925156812e-05, weight decay:1.2275990378623818e-07\n",
      "val acc:0.21 | lr:0.0008428526359647602, weight decay:5.183124634496002e-07\n",
      "val acc:0.09 | lr:1.064584031537219e-06, weight decay:3.6708948496499934e-08\n",
      "val acc:0.08 | lr:3.0345247644655026e-06, weight decay:4.950731130080794e-08\n",
      "val acc:0.09 | lr:1.73652529593216e-05, weight decay:2.88632661064784e-07\n",
      "val acc:0.1 | lr:5.544479096647544e-05, weight decay:2.113769329290266e-08\n",
      "val acc:0.1 | lr:2.813873102599114e-06, weight decay:4.8166495663009764e-08\n",
      "val acc:0.76 | lr:0.007445723806762358, weight decay:2.9202092136060406e-08\n",
      "val acc:0.11 | lr:0.0001253321031068875, weight decay:1.2011085838967731e-05\n",
      "val acc:0.25 | lr:0.0009746415057197832, weight decay:9.373061599700438e-05\n",
      "val acc:0.75 | lr:0.007871546115212994, weight decay:2.041471126766216e-08\n",
      "val acc:0.08 | lr:8.163424639764952e-06, weight decay:4.53738233056458e-05\n",
      "val acc:0.23 | lr:0.0012214653370813215, weight decay:2.9563245005287503e-07\n",
      "val acc:0.13 | lr:1.6322122800208977e-06, weight decay:2.5266659730455628e-05\n",
      "val acc:0.21 | lr:0.0012437874821349497, weight decay:2.5113833269471635e-07\n",
      "val acc:0.12 | lr:6.654281772318304e-05, weight decay:1.3471300253802642e-06\n",
      "val acc:0.35 | lr:0.0014952948544068008, weight decay:1.4112084532000775e-07\n",
      "val acc:0.14 | lr:7.322065858954585e-05, weight decay:5.217827126563337e-07\n",
      "=========== Hyper-Parameter Optimization Result ===========\n",
      "Best-1(val acc:0.76) | lr:0.007445723806762358, weight decay:2.9202092136060406e-08\n",
      "Best-2(val acc:0.75) | lr:0.007871546115212994, weight decay:2.041471126766216e-08\n",
      "Best-3(val acc:0.74) | lr:0.00784246351455384, weight decay:5.305053120079901e-06\n",
      "Best-4(val acc:0.73) | lr:0.007507693008108907, weight decay:4.855594524878592e-06\n",
      "Best-5(val acc:0.72) | lr:0.006319714585734379, weight decay:6.8482572756237765e-06\n",
      "Best-6(val acc:0.71) | lr:0.006897584923685664, weight decay:4.618756349100312e-07\n",
      "Best-7(val acc:0.71) | lr:0.009010360762276067, weight decay:9.472541453001617e-05\n",
      "Best-8(val acc:0.67) | lr:0.0047246619261014, weight decay:3.244502062807198e-07\n",
      "Best-9(val acc:0.66) | lr:0.00571862327714606, weight decay:4.477590072189879e-08\n",
      "Best-10(val acc:0.63) | lr:0.004584099737481459, weight decay:1.4504231452590255e-06\n",
      "Best-11(val acc:0.54) | lr:0.003867850513729261, weight decay:2.0938126035034492e-05\n",
      "Best-12(val acc:0.53) | lr:0.0031435200949645127, weight decay:2.2458616719024534e-07\n"
     ]
    },
    {
     "name": "stdout",
     "output_type": "stream",
     "text": [
      "Best-13(val acc:0.52) | lr:0.003464914441536612, weight decay:2.428540140874959e-07\n",
      "Best-14(val acc:0.51) | lr:0.003396058130989503, weight decay:8.051963180821867e-06\n",
      "Best-15(val acc:0.51) | lr:0.004152598347072915, weight decay:2.8054616404061687e-06\n",
      "Best-16(val acc:0.47) | lr:0.002498790018375607, weight decay:7.274314642442292e-08\n",
      "Best-17(val acc:0.43) | lr:0.0021737489236185814, weight decay:3.551614745528567e-05\n",
      "Best-18(val acc:0.37) | lr:0.0015642471358828934, weight decay:4.295337155938601e-05\n",
      "Best-19(val acc:0.35) | lr:0.0014952948544068008, weight decay:1.4112084532000775e-07\n",
      "Best-20(val acc:0.34) | lr:0.0022924849753834615, weight decay:4.52177134214738e-07\n"
     ]
    },
    {
     "data": {
      "image/png": "[encoded data removed]",
      "text/plain": [
       "<Figure size 432x288 with 20 Axes>"
      ]
     },
     "metadata": {
      "needs_background": "light"
     },
     "output_type": "display_data"
    }
   ],
   "source": [
    "# coding: utf-8\n",
    "import sys, os\n",
    "sys.path.append(os.pardir)  # 부모 디렉터리의 파일을 가져올 수 있도록 설정\n",
    "import numpy as np\n",
    "import matplotlib.pyplot as plt\n",
    "from dataset.mnist import load_mnist\n",
    "from common.multi_layer_net import MultiLayerNet\n",
    "from common.util import shuffle_dataset\n",
    "from common.trainer import Trainer\n",
    "\n",
    "(x_train, t_train), (x_test, t_test) = load_mnist(normalize=True)\n",
    "\n",
    "# 결과를 빠르게 얻기 위해 훈련 데이터를 줄임\n",
    "x_train = x_train[:500]\n",
    "t_train = t_train[:500]\n",
    "\n",
    "# 20%를 검증 데이터로 분할\n",
    "validation_rate = 0.20\n",
    "validation_num = int(x_train.shape[0] * validation_rate)\n",
    "x_train, t_train = shuffle_dataset(x_train, t_train)\n",
    "x_val = x_train[:validation_num]\n",
    "t_val = t_train[:validation_num]\n",
    "x_train = x_train[validation_num:]\n",
    "t_train = t_train[validation_num:]\n",
    "\n",
    "\n",
    "def __train(lr, weight_decay, epocs=50):\n",
    "    network = MultiLayerNet(input_size=784, hidden_size_list=[100, 100, 100, 100, 100, 100],\n",
    "                            output_size=10, weight_decay_lambda=weight_decay)\n",
    "    trainer = Trainer(network, x_train, t_train, x_val, t_val,\n",
    "                      epochs=epocs, mini_batch_size=100,\n",
    "                      optimizer='sgd', optimizer_param={'lr': lr}, verbose=False)\n",
    "    trainer.train()\n",
    "\n",
    "    return trainer.test_acc_list, trainer.train_acc_list\n",
    "\n",
    "\n",
    "# 하이퍼파라미터 무작위 탐색======================================\n",
    "optimization_trial = 100\n",
    "results_val = {}\n",
    "results_train = {}\n",
    "for _ in range(optimization_trial):\n",
    "    # 탐색한 하이퍼파라미터의 범위 지정===============\n",
    "    weight_decay = 10 ** np.random.uniform(-8, -4)\n",
    "    lr = 10 ** np.random.uniform(-6, -2)\n",
    "    # ================================================\n",
    "\n",
    "    val_acc_list, train_acc_list = __train(lr, weight_decay)\n",
    "    print(\"val acc:\" + str(val_acc_list[-1]) + \" | lr:\" + str(lr) + \", weight decay:\" + str(weight_decay))\n",
    "    key = \"lr:\" + str(lr) + \", weight decay:\" + str(weight_decay)\n",
    "    results_val[key] = val_acc_list\n",
    "    results_train[key] = train_acc_list\n",
    "\n",
    "# 그래프 그리기========================================================\n",
    "print(\"=========== Hyper-Parameter Optimization Result ===========\")\n",
    "graph_draw_num = 20\n",
    "col_num = 5\n",
    "row_num = int(np.ceil(graph_draw_num / col_num))\n",
    "i = 0\n",
    "\n",
    "for key, val_acc_list in sorted(results_val.items(), key=lambda x:x[1][-1], reverse=True):\n",
    "    print(\"Best-\" + str(i+1) + \"(val acc:\" + str(val_acc_list[-1]) + \") | \" + key)\n",
    "\n",
    "    plt.subplot(row_num, col_num, i+1)\n",
    "    plt.title(\"Best-\" + str(i+1))\n",
    "    plt.ylim(0.0, 1.0)\n",
    "    if i % 5: plt.yticks([])\n",
    "    plt.xticks([])\n",
    "    x = np.arange(len(val_acc_list))\n",
    "    plt.plot(x, val_acc_list)\n",
    "    plt.plot(x, results_train[key], \"--\")\n",
    "    i += 1\n",
    "\n",
    "    if i >= graph_draw_num:\n",
    "        break\n",
    "\n",
    "plt.show()"
   ]
  },
  {
   "cell_type": "markdown",
   "id": "boolean-hybrid",
   "metadata": {
    "heading_collapsed": true
   },
   "source": [
    "# 정리\n",
    "- 매개변수 갱신 방법 : 확률적 경사 하강법(SGD), 모멘텀, AdaGrad, Adam, RMSprop 등\n",
    "- 가중치 초깃값을 정하는 방법은 올바른 학습을 하는데 매우 중요하다.\n",
    "- 가중치의 초깃값으로는 Xavier초깃값과 He초깃값이 효과적이다.\n",
    "- 배치 정규화를 이용하면 학습을 빠르게 진행할 수 있으며, 초깃값에 영향을 덜 받게 된다.\n",
    "- 오버피팅을 억제하는 정규화기술로는 가중치감소화 드롭아웃이 있다.\n",
    "- 하이퍼파라미터 값 탐색은 최적 값이 존재할 법한 범위를 점차 좁히면서 하는 것이 효과적이다."
   ]
  }
 ],
 "metadata": {
  "kernelspec": {
   "display_name": "Python 3",
   "language": "python",
   "name": "python3"
  },
  "language_info": {
   "codemirror_mode": {
    "name": "ipython",
    "version": 3
   },
   "file_extension": ".py",
   "mimetype": "text/x-python",
   "name": "python",
   "nbconvert_exporter": "python",
   "pygments_lexer": "ipython3",
   "version": "3.7.4"
  },
  "toc": {
   "base_numbering": 1,
   "nav_menu": {},
   "number_sections": false,
   "sideBar": true,
   "skip_h1_title": false,
   "title_cell": "Table of Contents",
   "title_sidebar": "Contents",
   "toc_cell": false,
   "toc_position": {
    "height": "calc(100% - 180px)",
    "left": "10px",
    "top": "150px",
    "width": "284px"
   },
   "toc_section_display": true,
   "toc_window_display": true
  }
 },
 "nbformat": 4,
 "nbformat_minor": 5
}
